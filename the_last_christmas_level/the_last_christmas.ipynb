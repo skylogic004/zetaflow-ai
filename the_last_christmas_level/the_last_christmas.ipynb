{
 "cells": [
  {
   "cell_type": "markdown",
   "metadata": {},
   "source": [
    "# Level \"The Last Christmas\"\n",
    "\n",
    "## Play it at http://zetaflow.skylogic.ca/game/profile/14735\n",
    "\n",
    "Made by Matthew Dirks (~MD), December 2020."
   ]
  },
  {
   "cell_type": "code",
   "execution_count": 4,
   "metadata": {},
   "outputs": [],
   "source": [
    "import numpy as np"
   ]
  },
  {
   "cell_type": "code",
   "execution_count": 5,
   "metadata": {},
   "outputs": [],
   "source": [
    "from sys import path\n",
    "path.append('..')\n",
    "from zf_function_wrappers import *\n",
    "from zf_common import *\n",
    "from zf_macro_functions import *"
   ]
  },
  {
   "cell_type": "code",
   "execution_count": 6,
   "metadata": {},
   "outputs": [],
   "source": [
    "FAR_AWAY = 9999\n",
    "BIG = 2000\n",
    "SIZE_0 = 0"
   ]
  },
  {
   "cell_type": "code",
   "execution_count": 7,
   "metadata": {},
   "outputs": [],
   "source": [
    "# store all commands here (these go into the \"AI, lives\" window in http://zetaflow.skylogic.ca/game/edit)\n",
    "cmds= []\n",
    "\n",
    "# helper function: just adds one or more commands to the cmds array\n",
    "def append(cmd):\n",
    "    if (isinstance(cmd, str)):\n",
    "        cmds.append(cmd)\n",
    "        print(cmd)\n",
    "    elif (isinstance(cmd, list)):\n",
    "        cmds.extend(cmd)\n",
    "        print('\\n'.join(str(x) for x in cmd))\n",
    "    else:\n",
    "        raise(ValueError('What is this? {} {}'.format(type(cmd), cmd)))\n",
    "    "
   ]
  },
  {
   "cell_type": "markdown",
   "metadata": {},
   "source": [
    "# Overview\n",
    "\n",
    "There are 4 main sections to this level:\n",
    "\n",
    "1. Walls, triggers, and special weapons\n",
    "\n",
    "These are the first things the player sees and has to destroy.\n",
    "\n",
    "![](./screenshots/walls_and_triggers.png \"\")\n",
    "\n",
    "2. Flying assistant (\"ship2\")\n",
    "\n",
    "The red ship that flies by occasionally:\n",
    "\n",
    "![](./screenshots/ship2.png \"\")\n",
    "\n",
    "3. \"star\"-ship (initially frozen)\n",
    "\n",
    "![](./screenshots/starship.png \"\")\n",
    "\n",
    "4. Special-effect Ending\n",
    "\n",
    "![](./screenshots/heart.png \"\")"
   ]
  },
  {
   "cell_type": "markdown",
   "metadata": {},
   "source": [
    "# 1. Walls, triggers, and special weapons"
   ]
  },
  {
   "cell_type": "code",
   "execution_count": 8,
   "metadata": {},
   "outputs": [],
   "source": [
    "# Part numbers with names (so we can refer to parts by name rather than by number)\n",
    "parts = {\n",
    "    'killer_circle': 8, # circle that is invincible and placed at center of screen. This is the part that auto-kills the player by expanding in size.\n",
    "    'kill_switch_1': 5,\n",
    "    'kill_switch_2': 6,\n",
    "    'kill_switch_3': 7,\n",
    "    \n",
    "    # the RIGHT parts to kill (circles)\n",
    "    'kill_me_first': 9,\n",
    "    'first_replacement': 12, \n",
    "    'second_replacement': 13,\n",
    "    'third_replacement': 14,\n",
    "    \n",
    "    # parent parts for the kill switches and shields, and weapons\n",
    "    # These are the 4 \"switch1b\" in each corner\n",
    "    'corner_UL': 1,\n",
    "    'corner_BL': 3,\n",
    "    'corner_UR': 2,\n",
    "    'corner_BR': 4,\n",
    "    \n",
    "    # \"spread\" machine guns\n",
    "    'BL_spread_spinner': 21, # \"jet\"\n",
    "    'BR_spread_spinner': 26, # \"jet\"\n",
    "    'UR_spread_spinner': 35, # \"jet\"\n",
    "    \n",
    "    'BL_spread_0': 15,\n",
    "    'BL_spread_1': 16,\n",
    "    'BL_spread_2': 17,\n",
    "    'BL_spread_3': 18,\n",
    "    \n",
    "    'BR_spread_0': 27,\n",
    "    'BR_spread_1': 28,\n",
    "    'BR_spread_2': 29,\n",
    "    'BR_spread_3': 30,\n",
    "    \n",
    "    'UR_spread_0': 31,\n",
    "    'UR_spread_1': 32,\n",
    "    'UR_spread_2': 33,\n",
    "    'UR_spread_3': 34,\n",
    "    \n",
    "    # walls\n",
    "    'wall_1': 22,\n",
    "    'wall_2': 23,\n",
    "    'wall_3': 24,\n",
    "    'wall_4': 25,\n",
    "    \n",
    "    'BR_rocket_1': 36,\n",
    "    'BR_rocket_2': 37,\n",
    "    'BR_rocket_3': 38,\n",
    "    'BR_rocket_4': 39,\n",
    "    'BR_rocket_5': 40,\n",
    "    'BR_rocket_6': 41,\n",
    "    \n",
    "}\n",
    "kill_switches = [5, 6, 7] "
   ]
  },
  {
   "cell_type": "code",
   "execution_count": 9,
   "metadata": {},
   "outputs": [],
   "source": [
    "def on_death_kill_player(part_num):\n",
    "    \"\"\" when part dies, auto-kill the player \"\"\"\n",
    "    \n",
    "    # first, set height and width to fill the whole screen\n",
    "    _cmds = []\n",
    "    \n",
    "    _cmds.append(makeTriggerDeath(part_num, setWidth(parts['killer_circle'], BIG)))\n",
    "    _cmds.append(makeTriggerDeath(part_num, setHeight(parts['killer_circle'], BIG)))\n",
    "    \n",
    "    # then, after 1 second, revert back\n",
    "    # NEVERMIND - player is doomed at this point! :)\n",
    "    #_cmds.append(makeTriggerDeath(part_num, makeTriggerTime(secToFrames(2), setWidth(parts['killer_circle'], SIZE_0))))\n",
    "    #_cmds.append(makeTriggerDeath(part_num, makeTriggerTime(secToFrames(2), setHeight(parts['killer_circle'], SIZE_0))))\n",
    "    \n",
    "    append(_cmds)"
   ]
  },
  {
   "cell_type": "code",
   "execution_count": 10,
   "metadata": {},
   "outputs": [
    {
     "name": "stdout",
     "output_type": "stream",
     "text": [
      "makeInvincible, 8\n",
      "makeTrigger, death, 5, setWidth, 2000, 8\n",
      "makeTrigger, death, 5, setHeight, 2000, 8\n",
      "makeTrigger, death, 6, setWidth, 2000, 8\n",
      "makeTrigger, death, 6, setHeight, 2000, 8\n",
      "makeTrigger, death, 7, setWidth, 2000, 8\n",
      "makeTrigger, death, 7, setHeight, 2000, 8\n"
     ]
    }
   ],
   "source": [
    "# prepare the auto-death triggers\n",
    "append(makeInvincible(parts['killer_circle']))\n",
    "\n",
    "for num in kill_switches:\n",
    "    on_death_kill_player(num)"
   ]
  },
  {
   "cell_type": "code",
   "execution_count": 11,
   "metadata": {},
   "outputs": [
    {
     "name": "stdout",
     "output_type": "stream",
     "text": [
      "282.84\n"
     ]
    }
   ],
   "source": [
    "PROPER_DISTANCE = float('{:0.2f}'.format(np.sqrt(200**2+200**2))) # because it's position is 200 away from the core in both dimensions\n",
    "print(PROPER_DISTANCE)\n",
    "\n",
    "def disarm(right_part_to_kill, kill_switch_to_remove, replacement_part):\n",
    "    # first, player should destroy RIGHT PART, this will MOVE the next death trigger away and replace it with a destroyable part\n",
    "    append(makeTriggerDeath(right_part_to_kill, setDistance(kill_switch_to_remove, FAR_AWAY)))\n",
    "\n",
    "    # REPLACEMENT part will take over where RIGHT PART was\n",
    "    # first, at beginning it will sit far away\n",
    "    append(setDistance(replacement_part, FAR_AWAY))\n",
    "    # and later it will be moved into place\n",
    "    append(makeTriggerDeath(right_part_to_kill, setDistance(replacement_part, PROPER_DISTANCE)))\n"
   ]
  },
  {
   "cell_type": "code",
   "execution_count": 12,
   "metadata": {},
   "outputs": [
    {
     "name": "stdout",
     "output_type": "stream",
     "text": [
      "makeTrigger, death, 9, setDistance, 9999, 7\n",
      "setDistance, 9999, 12\n",
      "makeTrigger, death, 9, setDistance, 282.84, 12\n"
     ]
    }
   ],
   "source": [
    "# first, player should destroy #9, this will MOVE the next death trigger away and replace it with a destroyable part\n",
    "disarm(parts['kill_me_first'], parts['kill_switch_3'], parts['first_replacement'])"
   ]
  },
  {
   "cell_type": "code",
   "execution_count": 13,
   "metadata": {},
   "outputs": [
    {
     "name": "stdout",
     "output_type": "stream",
     "text": [
      "makeTrigger, death, 12, setDistance, 9999, 5\n",
      "setDistance, 9999, 13\n",
      "makeTrigger, death, 12, setDistance, 282.84, 13\n"
     ]
    }
   ],
   "source": [
    "disarm(parts['first_replacement'], parts['kill_switch_1'], parts['second_replacement'])"
   ]
  },
  {
   "cell_type": "code",
   "execution_count": 14,
   "metadata": {},
   "outputs": [
    {
     "name": "stdout",
     "output_type": "stream",
     "text": [
      "makeTrigger, death, 13, setDistance, 9999, 6\n",
      "setDistance, 9999, 14\n",
      "makeTrigger, death, 13, setDistance, 282.84, 14\n"
     ]
    }
   ],
   "source": [
    "disarm(parts['second_replacement'], parts['kill_switch_2'], parts['third_replacement'])"
   ]
  },
  {
   "cell_type": "code",
   "execution_count": 15,
   "metadata": {},
   "outputs": [
    {
     "name": "stdout",
     "output_type": "stream",
     "text": [
      "makeInvincible, 22,23,24,25\n"
     ]
    }
   ],
   "source": [
    "# WALLS\n",
    "append(makeInvincible([parts['wall_1'], parts['wall_2'], parts['wall_3'], parts['wall_4']]))"
   ]
  },
  {
   "cell_type": "code",
   "execution_count": null,
   "metadata": {},
   "outputs": [],
   "source": []
  },
  {
   "cell_type": "markdown",
   "metadata": {},
   "source": [
    "### machine guns \"spreads\""
   ]
  },
  {
   "cell_type": "code",
   "execution_count": 16,
   "metadata": {},
   "outputs": [
    {
     "name": "stdout",
     "output_type": "stream",
     "text": [
      "makeTrigger, death, 9, makeTrigger, timeRepeat, 0, 330, enableGun, 15\n",
      "makeTrigger, death, 9, makeTrigger, timeRepeat, 30, 330, disableGun, 15\n",
      "makeTrigger, death, 9, makeTrigger, timeRepeat, 0, 3, setGunTime, 298, 15\n",
      "makeTrigger, death, 9, makeTrigger, timeRepeat, 9, 330, enableGun, 16\n",
      "makeTrigger, death, 9, makeTrigger, timeRepeat, 39, 330, disableGun, 16\n",
      "makeTrigger, death, 9, makeTrigger, timeRepeat, 0, 3, setGunTime, 298, 16\n",
      "makeTrigger, death, 9, makeTrigger, timeRepeat, 18, 330, enableGun, 17\n",
      "makeTrigger, death, 9, makeTrigger, timeRepeat, 48, 330, disableGun, 17\n",
      "makeTrigger, death, 9, makeTrigger, timeRepeat, 0, 3, setGunTime, 298, 17\n",
      "makeTrigger, death, 9, makeTrigger, timeRepeat, 27, 330, enableGun, 18\n",
      "makeTrigger, death, 9, makeTrigger, timeRepeat, 57, 330, disableGun, 18\n",
      "makeTrigger, death, 9, makeTrigger, timeRepeat, 0, 3, setGunTime, 298, 18\n",
      "rotatePart, 21, 2\n",
      "makeTrigger, death, 9, makeTrigger, timeRepeat, 60, 330, enableGun, 27\n",
      "makeTrigger, death, 9, makeTrigger, timeRepeat, 90, 330, disableGun, 27\n",
      "makeTrigger, death, 9, makeTrigger, timeRepeat, 0, 3, setGunTime, 298, 27\n",
      "makeTrigger, death, 9, makeTrigger, timeRepeat, 78, 330, enableGun, 28\n",
      "makeTrigger, death, 9, makeTrigger, timeRepeat, 108, 330, disableGun, 28\n",
      "makeTrigger, death, 9, makeTrigger, timeRepeat, 0, 3, setGunTime, 298, 28\n",
      "makeTrigger, death, 9, makeTrigger, timeRepeat, 96, 330, enableGun, 29\n",
      "makeTrigger, death, 9, makeTrigger, timeRepeat, 126, 330, disableGun, 29\n",
      "makeTrigger, death, 9, makeTrigger, timeRepeat, 0, 3, setGunTime, 298, 29\n",
      "makeTrigger, death, 9, makeTrigger, timeRepeat, 114, 330, enableGun, 30\n",
      "makeTrigger, death, 9, makeTrigger, timeRepeat, 144, 330, disableGun, 30\n",
      "makeTrigger, death, 9, makeTrigger, timeRepeat, 0, 3, setGunTime, 298, 30\n",
      "rotatePart, 26, 2\n",
      "makeTrigger, death, 12, makeTrigger, timeRepeat, 300, 180, enableGun, 31\n",
      "makeTrigger, death, 12, makeTrigger, timeRepeat, 330, 180, disableGun, 31\n",
      "makeTrigger, death, 12, makeTrigger, timeRepeat, 0, 2, setGunTime, 298, 31\n",
      "makeTrigger, death, 12, makeTrigger, timeRepeat, 309, 180, enableGun, 32\n",
      "makeTrigger, death, 12, makeTrigger, timeRepeat, 339, 180, disableGun, 32\n",
      "makeTrigger, death, 12, makeTrigger, timeRepeat, 0, 2, setGunTime, 298, 32\n",
      "makeTrigger, death, 12, makeTrigger, timeRepeat, 318, 180, enableGun, 33\n",
      "makeTrigger, death, 12, makeTrigger, timeRepeat, 348, 180, disableGun, 33\n",
      "makeTrigger, death, 12, makeTrigger, timeRepeat, 0, 2, setGunTime, 298, 33\n",
      "makeTrigger, death, 12, makeTrigger, timeRepeat, 327, 180, enableGun, 34\n",
      "makeTrigger, death, 12, makeTrigger, timeRepeat, 357, 180, disableGun, 34\n",
      "makeTrigger, death, 12, makeTrigger, timeRepeat, 0, 2, setGunTime, 298, 34\n",
      "rotatePart, 35, 2\n",
      "disableGun, 15,16,17,18,27,28,29,30,31,32,33,34\n"
     ]
    }
   ],
   "source": [
    "f = lambda offset, interval: [float('{:0.2f}'.format(offset + x*interval)) for x in range(4)]\n",
    "\n",
    "######## BOTTOM CORNERS: SPREADS\n",
    "on_death = lambda cmds: [makeTriggerDeath(parts['kill_me_first'], cmd) for cmd in cmds]\n",
    "\n",
    "# BL\n",
    "for name, offset_seconds in zip([f'BL_spread_{i}' for i in range(4)], f(0, 0.3)):\n",
    "    append(on_death(macro_machineGunOnOff(parts[name], 'spread', off_seconds=10, on_seconds=1, cooldown=3, offset_seconds=offset_seconds)))\n",
    "    \n",
    "append(rotate(parts['BL_spread_spinner'], 2))\n",
    "\n",
    "# BR\n",
    "for name, offset_seconds in zip([f'BR_spread_{i}' for i in range(4)], f(2, 0.6)):\n",
    "    append(on_death(macro_machineGunOnOff(parts[name], 'spread', off_seconds=10, on_seconds=1, cooldown=3, offset_seconds=offset_seconds)))\n",
    "    \n",
    "append(rotate(parts['BR_spread_spinner'], 2))\n",
    "\n",
    "\n",
    "######### TOP RIGHT CORNER: SPREADS\n",
    "on_death = lambda cmds: [makeTriggerDeath(parts['first_replacement'], cmd) for cmd in cmds]\n",
    "\n",
    "# UR\n",
    "for name, offset_seconds in zip([f'UR_spread_{i}' for i in range(4)], f(10, 0.3)):\n",
    "    append(on_death(macro_machineGunOnOff(parts[name], 'spread', off_seconds=5, on_seconds=1, cooldown=2, offset_seconds=offset_seconds)))\n",
    "    \n",
    "append(rotate(parts['UR_spread_spinner'], 2))\n",
    "\n",
    "\n",
    "\n",
    "# start off disabled\n",
    "tmp = [parts[f'BL_spread_{i}'] for i in range(4)]\n",
    "tmp += [parts[f'BR_spread_{i}'] for i in range(4)]\n",
    "tmp += [parts[f'UR_spread_{i}'] for i in range(4)]\n",
    "append(disableGun(tmp))\n"
   ]
  },
  {
   "cell_type": "markdown",
   "metadata": {},
   "source": [
    "### BR corner"
   ]
  },
  {
   "cell_type": "code",
   "execution_count": 17,
   "metadata": {},
   "outputs": [
    {
     "name": "stdout",
     "output_type": "stream",
     "text": [
      "makeTrigger, death, 13, makeTrigger, timeRepeat, 0, 1, setGunTime, 109, 36\n",
      "makeTrigger, death, 13, enableGun, 36\n",
      "disableGun, 36\n",
      "makeTrigger, death, 13, makeTrigger, timeRepeat, 0, 1, setGunTime, 109, 37\n",
      "makeTrigger, death, 13, enableGun, 37\n",
      "disableGun, 37\n",
      "makeTrigger, death, 13, makeTrigger, timeRepeat, 0, 1, setGunTime, 109, 38\n",
      "makeTrigger, death, 13, enableGun, 38\n",
      "disableGun, 38\n",
      "makeTrigger, death, 13, makeTrigger, timeRepeat, 0, 1, setGunTime, 109, 39\n",
      "makeTrigger, death, 13, enableGun, 39\n",
      "disableGun, 39\n",
      "makeTrigger, death, 13, makeTrigger, timeRepeat, 0, 1, setGunTime, 109, 40\n",
      "makeTrigger, death, 13, enableGun, 40\n",
      "disableGun, 40\n",
      "makeTrigger, death, 13, makeTrigger, timeRepeat, 0, 1, setGunTime, 109, 41\n",
      "makeTrigger, death, 13, enableGun, 41\n",
      "disableGun, 41\n"
     ]
    }
   ],
   "source": [
    "on_death = lambda cmd: makeTriggerDeath(parts['second_replacement'], cmd)\n",
    "\n",
    "for i in range(1,6+1):\n",
    "    append(on_death(macro_machineGun(parts[f'BR_rocket_{i}'], 'square', cooldown=1)))\n",
    "    append(on_death(enableGun(parts[f'BR_rocket_{i}'])))\n",
    "    append(disableGun(parts[f'BR_rocket_{i}']))"
   ]
  },
  {
   "cell_type": "markdown",
   "metadata": {},
   "source": [
    "### Parts for the triggers, walls, and guns"
   ]
  },
  {
   "cell_type": "code",
   "execution_count": 18,
   "metadata": {},
   "outputs": [],
   "source": [
    "c_red = 'FF0033'\n",
    "c_frozen = '33CCFF'\n",
    "c_white = 'FFFFFF'\n",
    "c_green = '339900'\n",
    "invis = '0, 0' # 0 xscale and yscale to make it invisible\n",
    "\n",
    "txt = f'''\n",
    "core, 400, 300, 0, 0.5, 0.5, -1, 0, {c_frozen}\n",
    "c, 1, -3, 0, {invis}, e0, 8, FF0000\n",
    "switch1b, 200, 200, 0, 1, 1, e0, 4, {c_white}\n",
    "switch1b, -200, 200, 0, 1, 1, e0, 3, {c_white}\n",
    "switch1b, 200, -200, 0, 1, 1, e0, 2, {c_white}\n",
    "switch1b, -200, -200, 0, 1, 1, e0, 1, {c_white}\n",
    "\n",
    "switch2b, -200, -200, 0, 2, 2, e0, 9, {c_red}\n",
    "switch2b, 200, -200, 0, 2, 2, e0, 5, {c_red}\n",
    "switch2b, -200, 200, 0, 2, 2, e0, 7, {c_red}\n",
    "switch2b, 200, 200, 0, 2, 2, e0, 6, {c_red}\n",
    "\n",
    "switch2b, -200, 200, 0, 2, 2, e0, 12, {c_red}\n",
    "switch2b, 200, -200, 0, 2, 2, e0, 13, {c_red}\n",
    "switch2b, 200, 200, 0, 2, 2, e0, 14, {c_red}\n",
    "'''"
   ]
  },
  {
   "cell_type": "code",
   "execution_count": 19,
   "metadata": {},
   "outputs": [],
   "source": [
    "# TEMP PART FOR TESTING\n",
    "#txt += 'oddbox, -80, 24, 0, 1, 1, e0, 999, 0066FF'"
   ]
  },
  {
   "cell_type": "code",
   "execution_count": 20,
   "metadata": {},
   "outputs": [],
   "source": [
    "# the walls that shield the kill switches\n",
    "txt += f'''\n",
    "rect, 20, 20, -45, 5, 1, e{parts['corner_UL']}, 22, {c_green}\n",
    "rect, 20, -20, -135, 5, 1, e{parts['corner_BL']}, 23, {c_green}\n",
    "rect, -20, 20, -135, 5, 1, e{parts['corner_UR']}, 24, {c_green}\n",
    "rect, -20, -20, -45, 5, 1, e{parts['corner_BR']}, 25, {c_green}\n",
    "'''    "
   ]
  },
  {
   "cell_type": "code",
   "execution_count": 21,
   "metadata": {},
   "outputs": [],
   "source": [
    "\n",
    "# BL, BR, TR corners: parents of guns for rotation\n",
    "txt += f'''\n",
    "jet, 0, 0, 0, {invis}, e{parts['corner_BL']}, {parts['BL_spread_spinner']}, 0066FF\n",
    "jet, 0, 0, 0, {invis}, e{parts['corner_BR']}, {parts['BR_spread_spinner']}, 0066FF\n",
    "jet, 0, 0, 0, {invis}, e{parts['corner_UR']}, {parts['UR_spread_spinner']}, 0066FF\n",
    "'''\n",
    "# and spreads to attach to above\n",
    "txt += f'''\n",
    "spread, 0, 50, 0, {invis}, e{parts['BL_spread_spinner']}, {parts['BL_spread_0']}, 666666\n",
    "spread, 50, 0, 0, {invis}, e{parts['BL_spread_spinner']}, {parts['BL_spread_1']}, 666666\n",
    "spread, 0, -50, 0, {invis}, e{parts['BL_spread_spinner']}, {parts['BL_spread_2']}, 666666\n",
    "spread, -50, 0, 0, {invis}, e{parts['BL_spread_spinner']}, {parts['BL_spread_3']}, 666666\n",
    "\n",
    "spread, 0, 50, 0, {invis}, e{parts['BR_spread_spinner']}, {parts['BR_spread_0']}, 666666\n",
    "spread, 50, 0, 0, {invis}, e{parts['BR_spread_spinner']}, {parts['BR_spread_1']}, 666666\n",
    "spread, 0, -50, 0, {invis}, e{parts['BR_spread_spinner']}, {parts['BR_spread_2']}, 666666\n",
    "spread, -50, 0, 0, {invis}, e{parts['BR_spread_spinner']}, {parts['BR_spread_3']}, 666666\n",
    "\n",
    "spread, 0, 50, 0, {invis}, e{parts['UR_spread_spinner']}, {parts['UR_spread_0']}, 666666\n",
    "spread, 50, 0, 0, {invis}, e{parts['UR_spread_spinner']}, {parts['UR_spread_1']}, 666666\n",
    "spread, 0, -50, 0, {invis}, e{parts['UR_spread_spinner']}, {parts['UR_spread_2']}, 666666\n",
    "spread, -50, 0, 0, {invis}, e{parts['UR_spread_spinner']}, {parts['UR_spread_3']}, 666666\n",
    "'''\n"
   ]
  },
  {
   "cell_type": "code",
   "execution_count": 22,
   "metadata": {},
   "outputs": [],
   "source": [
    "# rocket for bottom right corner\n",
    "txt += f'''\n",
    "square, 0, 0, 135, {invis}, e{parts['wall_4']}, {parts['BR_rocket_1']}, 666666\n",
    "square, 0, 0, 135, {invis}, e{parts['wall_4']}, {parts['BR_rocket_2']}, 666666\n",
    "square, 0, 0, 135, {invis}, e{parts['wall_4']}, {parts['BR_rocket_3']}, 666666\n",
    "square, 0, 0, 135, {invis}, e{parts['wall_4']}, {parts['BR_rocket_4']}, 666666\n",
    "square, 0, 0, 135, {invis}, e{parts['wall_4']}, {parts['BR_rocket_5']}, 666666\n",
    "square, 0, 0, 135, {invis}, e{parts['wall_4']}, {parts['BR_rocket_6']}, 666666\n",
    "'''"
   ]
  },
  {
   "cell_type": "code",
   "execution_count": 23,
   "metadata": {},
   "outputs": [
    {
     "name": "stdout",
     "output_type": "stream",
     "text": [
      "\n",
      "core, 400, 300, 0, 0.5, 0.5, -1, 0, 33CCFF\n",
      "c, 1, -3, 0, 0, 0, e0, 8, FF0000\n",
      "switch1b, 200, 200, 0, 1, 1, e0, 4, FFFFFF\n",
      "switch1b, -200, 200, 0, 1, 1, e0, 3, FFFFFF\n",
      "switch1b, 200, -200, 0, 1, 1, e0, 2, FFFFFF\n",
      "switch1b, -200, -200, 0, 1, 1, e0, 1, FFFFFF\n",
      "\n",
      "switch2b, -200, -200, 0, 2, 2, e0, 9, FF0033\n",
      "switch2b, 200, -200, 0, 2, 2, e0, 5, FF0033\n",
      "switch2b, -200, 200, 0, 2, 2, e0, 7, FF0033\n",
      "switch2b, 200, 200, 0, 2, 2, e0, 6, FF0033\n",
      "\n",
      "switch2b, -200, 200, 0, 2, 2, e0, 12, FF0033\n",
      "switch2b, 200, -200, 0, 2, 2, e0, 13, FF0033\n",
      "switch2b, 200, 200, 0, 2, 2, e0, 14, FF0033\n",
      "\n",
      "rect, 20, 20, -45, 5, 1, e1, 22, 339900\n",
      "rect, 20, -20, -135, 5, 1, e3, 23, 339900\n",
      "rect, -20, 20, -135, 5, 1, e2, 24, 339900\n",
      "rect, -20, -20, -45, 5, 1, e4, 25, 339900\n",
      "\n",
      "jet, 0, 0, 0, 0, 0, e3, 21, 0066FF\n",
      "jet, 0, 0, 0, 0, 0, e4, 26, 0066FF\n",
      "jet, 0, 0, 0, 0, 0, e2, 35, 0066FF\n",
      "\n",
      "spread, 0, 50, 0, 0, 0, e21, 15, 666666\n",
      "spread, 50, 0, 0, 0, 0, e21, 16, 666666\n",
      "spread, 0, -50, 0, 0, 0, e21, 17, 666666\n",
      "spread, -50, 0, 0, 0, 0, e21, 18, 666666\n",
      "\n",
      "spread, 0, 50, 0, 0, 0, e26, 27, 666666\n",
      "spread, 50, 0, 0, 0, 0, e26, 28, 666666\n",
      "spread, 0, -50, 0, 0, 0, e26, 29, 666666\n",
      "spread, -50, 0, 0, 0, 0, e26, 30, 666666\n",
      "\n",
      "spread, 0, 50, 0, 0, 0, e35, 31, 666666\n",
      "spread, 50, 0, 0, 0, 0, e35, 32, 666666\n",
      "spread, 0, -50, 0, 0, 0, e35, 33, 666666\n",
      "spread, -50, 0, 0, 0, 0, e35, 34, 666666\n",
      "\n",
      "square, 0, 0, 135, 0, 0, e25, 36, 666666\n",
      "square, 0, 0, 135, 0, 0, e25, 37, 666666\n",
      "square, 0, 0, 135, 0, 0, e25, 38, 666666\n",
      "square, 0, 0, 135, 0, 0, e25, 39, 666666\n",
      "square, 0, 0, 135, 0, 0, e25, 40, 666666\n",
      "square, 0, 0, 135, 0, 0, e25, 41, 666666\n",
      "\n"
     ]
    }
   ],
   "source": [
    "print(txt)\n",
    "copy(txt)"
   ]
  },
  {
   "cell_type": "markdown",
   "metadata": {},
   "source": [
    "# 2. Flying assistant (\"ship2\")"
   ]
  },
  {
   "cell_type": "code",
   "execution_count": 24,
   "metadata": {},
   "outputs": [],
   "source": [
    "cmds += ['','',''] # some blank lines to show where ship2 code starts"
   ]
  },
  {
   "cell_type": "code",
   "execution_count": 25,
   "metadata": {},
   "outputs": [],
   "source": [
    "# must be higher than all parts in above sections\n",
    "STARTING_ID = 100"
   ]
  },
  {
   "cell_type": "code",
   "execution_count": 26,
   "metadata": {},
   "outputs": [],
   "source": [
    "parts['ship2_core_parent'] = STARTING_ID+7\n",
    "parts['ship2_propeller1'] = STARTING_ID+5\n",
    "parts['ship2_propeller2'] = STARTING_ID+6\n",
    "parts['ship2_tri1'] = STARTING_ID+8\n",
    "parts['ship2_tri2'] = STARTING_ID+9\n",
    "parts['ship2_tri3'] = STARTING_ID+20\n",
    "parts['ship2_laser1'] = STARTING_ID+34\n",
    "parts['ship2_laser2'] = STARTING_ID+35\n",
    "\n",
    "ship2_singles = []\n",
    "for i, num in enumerate([30,31,32,33]):\n",
    "    _id = STARTING_ID+num\n",
    "    parts[f'ship2_single{i}'] = _id\n",
    "    ship2_singles.append(_id)"
   ]
  },
  {
   "cell_type": "code",
   "execution_count": 27,
   "metadata": {},
   "outputs": [
    {
     "name": "stdout",
     "output_type": "stream",
     "text": [
      "makeTrigger, timeRepeat, 0, 75, setGunTime, 49, 134,135\n",
      "rotatePart, 105, 20\n",
      "rotatePart, 106, -20\n"
     ]
    }
   ],
   "source": [
    "# make sure ship2 lasers fire often\n",
    "append(makeTriggerRepeat(0, 75, setGunTime([parts['ship2_laser1'], parts['ship2_laser2']], 49)))\n",
    "\n",
    "# spinning propellers\n",
    "append(rotate(parts['ship2_propeller1'], 20))\n",
    "append(rotate(parts['ship2_propeller2'], -20))"
   ]
  },
  {
   "cell_type": "markdown",
   "metadata": {},
   "source": [
    "#### ship2's sporadic movement"
   ]
  },
  {
   "cell_type": "raw",
   "metadata": {},
   "source": [
    "#v1\n",
    "rotatePart,5,20\n",
    "rotatePart,6,-20\n",
    "rotatePart,8,0.5\n",
    "rotatePart,9,2\n",
    "rotatePart,7,1,90,90,90\n",
    "rotatePart,20,0,-180,180,0"
   ]
  },
  {
   "cell_type": "raw",
   "metadata": {},
   "source": [
    "#v2\n",
    "rotatePart,105,20\n",
    "rotatePart,106,-20\n",
    "rotatePart,108,0.5\n",
    "rotatePart,109,1\n",
    "rotatePart,120,1,0,90,0\n",
    "rotatePart,107,1,0,0,90\n"
   ]
  },
  {
   "cell_type": "raw",
   "metadata": {},
   "source": [
    "#v3\n",
    "rotatePart,105,20\n",
    "rotatePart,106,-20\n",
    "rotatePart,108,0.3\n",
    "rotatePart,109,-0.5,0,0,180\n",
    "rotatePart,120,0.5,0,90,0\n",
    "rotatePart,107,-1,0,0,90"
   ]
  },
  {
   "cell_type": "code",
   "execution_count": 28,
   "metadata": {},
   "outputs": [
    {
     "name": "stdout",
     "output_type": "stream",
     "text": [
      "rotatePart, 108, 0.3\n",
      "rotatePart, 109, -0.5, 0, 0, 180\n",
      "rotatePart, 120, 0.5, 0, 90, 0\n",
      "rotatePart, 107, -1, 0, 0, 90\n"
     ]
    }
   ],
   "source": [
    "append(rotate(parts['ship2_tri1'], 0.3))\n",
    "append(rotate(parts['ship2_tri2'], -0.5, 0, 0, 180)) # 180 is so it starts off-screen\n",
    "append(rotate(parts['ship2_tri3'], 0.5, 0, 90, 0))\n",
    "append(rotate(parts['ship2_core_parent'], -1, 0, 0, 90)) # 90 rotates ship2 itself (b/c orientation that I made it originally didn't match well to the movement)"
   ]
  },
  {
   "cell_type": "code",
   "execution_count": 29,
   "metadata": {},
   "outputs": [
    {
     "name": "stdout",
     "output_type": "stream",
     "text": [
      "makeTrigger, timeRepeat, 0, 5, setGunTime, 98, 130,131,132,133\n"
     ]
    }
   ],
   "source": [
    "# ship2's machine gun fire\n",
    "append(macro_machineGun(ship2_singles, 'single', cooldown=5))"
   ]
  },
  {
   "cell_type": "code",
   "execution_count": 30,
   "metadata": {},
   "outputs": [
    {
     "name": "stdout",
     "output_type": "stream",
     "text": [
      "makeInvincible, 8\n",
      "makeTrigger, death, 5, setWidth, 2000, 8\n",
      "makeTrigger, death, 5, setHeight, 2000, 8\n",
      "makeTrigger, death, 6, setWidth, 2000, 8\n",
      "makeTrigger, death, 6, setHeight, 2000, 8\n",
      "makeTrigger, death, 7, setWidth, 2000, 8\n",
      "makeTrigger, death, 7, setHeight, 2000, 8\n",
      "makeTrigger, death, 9, setDistance, 9999, 7\n",
      "setDistance, 9999, 12\n",
      "makeTrigger, death, 9, setDistance, 282.84, 12\n",
      "makeTrigger, death, 12, setDistance, 9999, 5\n",
      "setDistance, 9999, 13\n",
      "makeTrigger, death, 12, setDistance, 282.84, 13\n",
      "makeTrigger, death, 13, setDistance, 9999, 6\n",
      "setDistance, 9999, 14\n",
      "makeTrigger, death, 13, setDistance, 282.84, 14\n",
      "makeInvincible, 22,23,24,25\n",
      "makeTrigger, death, 9, makeTrigger, timeRepeat, 0, 330, enableGun, 15\n",
      "makeTrigger, death, 9, makeTrigger, timeRepeat, 30, 330, disableGun, 15\n",
      "makeTrigger, death, 9, makeTrigger, timeRepeat, 0, 3, setGunTime, 298, 15\n",
      "makeTrigger, death, 9, makeTrigger, timeRepeat, 9, 330, enableGun, 16\n",
      "makeTrigger, death, 9, makeTrigger, timeRepeat, 39, 330, disableGun, 16\n",
      "makeTrigger, death, 9, makeTrigger, timeRepeat, 0, 3, setGunTime, 298, 16\n",
      "makeTrigger, death, 9, makeTrigger, timeRepeat, 18, 330, enableGun, 17\n",
      "makeTrigger, death, 9, makeTrigger, timeRepeat, 48, 330, disableGun, 17\n",
      "makeTrigger, death, 9, makeTrigger, timeRepeat, 0, 3, setGunTime, 298, 17\n",
      "makeTrigger, death, 9, makeTrigger, timeRepeat, 27, 330, enableGun, 18\n",
      "makeTrigger, death, 9, makeTrigger, timeRepeat, 57, 330, disableGun, 18\n",
      "makeTrigger, death, 9, makeTrigger, timeRepeat, 0, 3, setGunTime, 298, 18\n",
      "rotatePart, 21, 2\n",
      "makeTrigger, death, 9, makeTrigger, timeRepeat, 60, 330, enableGun, 27\n",
      "makeTrigger, death, 9, makeTrigger, timeRepeat, 90, 330, disableGun, 27\n",
      "makeTrigger, death, 9, makeTrigger, timeRepeat, 0, 3, setGunTime, 298, 27\n",
      "makeTrigger, death, 9, makeTrigger, timeRepeat, 78, 330, enableGun, 28\n",
      "makeTrigger, death, 9, makeTrigger, timeRepeat, 108, 330, disableGun, 28\n",
      "makeTrigger, death, 9, makeTrigger, timeRepeat, 0, 3, setGunTime, 298, 28\n",
      "makeTrigger, death, 9, makeTrigger, timeRepeat, 96, 330, enableGun, 29\n",
      "makeTrigger, death, 9, makeTrigger, timeRepeat, 126, 330, disableGun, 29\n",
      "makeTrigger, death, 9, makeTrigger, timeRepeat, 0, 3, setGunTime, 298, 29\n",
      "makeTrigger, death, 9, makeTrigger, timeRepeat, 114, 330, enableGun, 30\n",
      "makeTrigger, death, 9, makeTrigger, timeRepeat, 144, 330, disableGun, 30\n",
      "makeTrigger, death, 9, makeTrigger, timeRepeat, 0, 3, setGunTime, 298, 30\n",
      "rotatePart, 26, 2\n",
      "makeTrigger, death, 12, makeTrigger, timeRepeat, 300, 180, enableGun, 31\n",
      "makeTrigger, death, 12, makeTrigger, timeRepeat, 330, 180, disableGun, 31\n",
      "makeTrigger, death, 12, makeTrigger, timeRepeat, 0, 2, setGunTime, 298, 31\n",
      "makeTrigger, death, 12, makeTrigger, timeRepeat, 309, 180, enableGun, 32\n",
      "makeTrigger, death, 12, makeTrigger, timeRepeat, 339, 180, disableGun, 32\n",
      "makeTrigger, death, 12, makeTrigger, timeRepeat, 0, 2, setGunTime, 298, 32\n",
      "makeTrigger, death, 12, makeTrigger, timeRepeat, 318, 180, enableGun, 33\n",
      "makeTrigger, death, 12, makeTrigger, timeRepeat, 348, 180, disableGun, 33\n",
      "makeTrigger, death, 12, makeTrigger, timeRepeat, 0, 2, setGunTime, 298, 33\n",
      "makeTrigger, death, 12, makeTrigger, timeRepeat, 327, 180, enableGun, 34\n",
      "makeTrigger, death, 12, makeTrigger, timeRepeat, 357, 180, disableGun, 34\n",
      "makeTrigger, death, 12, makeTrigger, timeRepeat, 0, 2, setGunTime, 298, 34\n",
      "rotatePart, 35, 2\n",
      "disableGun, 15,16,17,18,27,28,29,30,31,32,33,34\n",
      "makeTrigger, death, 13, makeTrigger, timeRepeat, 0, 1, setGunTime, 109, 36\n",
      "makeTrigger, death, 13, enableGun, 36\n",
      "disableGun, 36\n",
      "makeTrigger, death, 13, makeTrigger, timeRepeat, 0, 1, setGunTime, 109, 37\n",
      "makeTrigger, death, 13, enableGun, 37\n",
      "disableGun, 37\n",
      "makeTrigger, death, 13, makeTrigger, timeRepeat, 0, 1, setGunTime, 109, 38\n",
      "makeTrigger, death, 13, enableGun, 38\n",
      "disableGun, 38\n",
      "makeTrigger, death, 13, makeTrigger, timeRepeat, 0, 1, setGunTime, 109, 39\n",
      "makeTrigger, death, 13, enableGun, 39\n",
      "disableGun, 39\n",
      "makeTrigger, death, 13, makeTrigger, timeRepeat, 0, 1, setGunTime, 109, 40\n",
      "makeTrigger, death, 13, enableGun, 40\n",
      "disableGun, 40\n",
      "makeTrigger, death, 13, makeTrigger, timeRepeat, 0, 1, setGunTime, 109, 41\n",
      "makeTrigger, death, 13, enableGun, 41\n",
      "disableGun, 41\n",
      "\n",
      "\n",
      "\n",
      "makeTrigger, timeRepeat, 0, 75, setGunTime, 49, 134,135\n",
      "rotatePart, 105, 20\n",
      "rotatePart, 106, -20\n",
      "rotatePart, 108, 0.3\n",
      "rotatePart, 109, -0.5, 0, 0, 180\n",
      "rotatePart, 120, 0.5, 0, 90, 0\n",
      "rotatePart, 107, -1, 0, 0, 90\n",
      "makeTrigger, timeRepeat, 0, 5, setGunTime, 98, 130,131,132,133\n"
     ]
    }
   ],
   "source": [
    "copy_to_clipboard(cmds)"
   ]
  },
  {
   "cell_type": "markdown",
   "metadata": {},
   "source": [
    "#### ship2's parts list"
   ]
  },
  {
   "cell_type": "code",
   "execution_count": 31,
   "metadata": {},
   "outputs": [],
   "source": [
    "txt += '\\n\\n\\n'\n",
    "\n",
    "# in center, rotating part #1\n",
    "txt += f'tri, 0, 0, 0, 0, 0, e0, {STARTING_ID+8}, CC0000\\n'\n",
    "# rotating part #2\n",
    "txt += f'tri, 0, -600, 0, 0, 0, e{STARTING_ID+8}, {STARTING_ID+9}, CC0000\\n'\n",
    "# rotating part #3, same position as #2 but different rotate speed\n",
    "txt += f'tri, 0, 0, 0, 0, 0, e{STARTING_ID+9}, {STARTING_ID+20}, CC0000\\n'\n",
    "\n",
    "# parent of ship2's core\n",
    "txt += f'switch4b, 0, 400, 90, 0, 0, e{STARTING_ID+20}, {STARTING_ID+7}, FF0000\\n'\n",
    "\n",
    "# ship2's core\n",
    "txt += f'core, 0, 0, 180, 0.5, 0.5, e{STARTING_ID+7}, {STARTING_ID+1}, FF0033\\n'\n",
    "\n",
    "# ship2 body\n",
    "txt += f'''\n",
    "rhombus, 1, 68, 77, 1.21, 0.61, e{STARTING_ID+1}, {STARTING_ID+38}, FF0033\n",
    "rect, -1, 34, 0, 3.01, 1.01, e{STARTING_ID+38}, {STARTING_ID+39}, FF0033\n",
    "single, -30, 7, 0, 0.7, 0.7, e{STARTING_ID+39}, {STARTING_ID+33}, FF0033\n",
    "single, 13, 16, 0, 0.5, 0.5, e{STARTING_ID+39}, {STARTING_ID+32}, FF0033\n",
    "single, -13, 16, 0, 0.5, 0.5, e{STARTING_ID+39}, {STARTING_ID+31}, FF0033\n",
    "single, 30, 7, 0, 0.7, 0.7, e{STARTING_ID+39}, {STARTING_ID+30}, FF0033\n",
    "forcefieldLine, 31, 40, -124, -0.61, 0.5, e{STARTING_ID+39}, {STARTING_ID+28}, FFFFFF\n",
    "forcefieldLine, -31, 40, 124, 0.61, 0.5, e{STARTING_ID+39}, {STARTING_ID+27}, FFFFFF\n",
    "oddbox2, -15, 23, -135, -0.5, -0.3, e{STARTING_ID+1}, {STARTING_ID+37}, FF0033\n",
    "c, -33, 51, 0, 1, 1, e{STARTING_ID+37}, {STARTING_ID+4}, FFFFFF\n",
    "laser_, 1, 8, 0, 0, 0, e{STARTING_ID+4}, {STARTING_ID+35}, FFFFFF\n",
    "stick, 0, 0, 0, 0.4, 0.2, e{STARTING_ID+4}, {STARTING_ID+5}, 990000\n",
    "oddbox2, 15, 23, 135, 0.5, -0.3, e{STARTING_ID+1}, {STARTING_ID+36}, FF0033\n",
    "c, 34, 51, 0, 1, 1, e{STARTING_ID+36}, {STARTING_ID+3}, FFFFFF\n",
    "laser_, -2, 8, 0, 0, 0, e{STARTING_ID+3}, {STARTING_ID+34}, FFFFFF\n",
    "stick, 0, 0, 0, 0.4, 0.2, e{STARTING_ID+3}, {STARTING_ID+6}, 990000\n",
    "tri, 0, -47, 0, 1.7, 2.6, e{STARTING_ID+1}, {STARTING_ID+26}, FF0033\n",
    "oddbox2, -17, -6, 135, -0.5, 0.5, e{STARTING_ID+1}, {STARTING_ID+25}, FF0033\n",
    "oddbox2, 17, -6, -135, 0.5, 0.5, e{STARTING_ID+1}, {STARTING_ID+22}, FF0033\n",
    "c, 0, 0, 0, 2, 4, e{STARTING_ID+1}, {STARTING_ID+2}, FF99BB\n",
    "'''"
   ]
  },
  {
   "cell_type": "code",
   "execution_count": 32,
   "metadata": {},
   "outputs": [
    {
     "name": "stdout",
     "output_type": "stream",
     "text": [
      "\n",
      "core, 400, 300, 0, 0.5, 0.5, -1, 0, 33CCFF\n",
      "c, 1, -3, 0, 0, 0, e0, 8, FF0000\n",
      "switch1b, 200, 200, 0, 1, 1, e0, 4, FFFFFF\n",
      "switch1b, -200, 200, 0, 1, 1, e0, 3, FFFFFF\n",
      "switch1b, 200, -200, 0, 1, 1, e0, 2, FFFFFF\n",
      "switch1b, -200, -200, 0, 1, 1, e0, 1, FFFFFF\n",
      "\n",
      "switch2b, -200, -200, 0, 2, 2, e0, 9, FF0033\n",
      "switch2b, 200, -200, 0, 2, 2, e0, 5, FF0033\n",
      "switch2b, -200, 200, 0, 2, 2, e0, 7, FF0033\n",
      "switch2b, 200, 200, 0, 2, 2, e0, 6, FF0033\n",
      "\n",
      "switch2b, -200, 200, 0, 2, 2, e0, 12, FF0033\n",
      "switch2b, 200, -200, 0, 2, 2, e0, 13, FF0033\n",
      "switch2b, 200, 200, 0, 2, 2, e0, 14, FF0033\n",
      "\n",
      "rect, 20, 20, -45, 5, 1, e1, 22, 339900\n",
      "rect, 20, -20, -135, 5, 1, e3, 23, 339900\n",
      "rect, -20, 20, -135, 5, 1, e2, 24, 339900\n",
      "rect, -20, -20, -45, 5, 1, e4, 25, 339900\n",
      "\n",
      "jet, 0, 0, 0, 0, 0, e3, 21, 0066FF\n",
      "jet, 0, 0, 0, 0, 0, e4, 26, 0066FF\n",
      "jet, 0, 0, 0, 0, 0, e2, 35, 0066FF\n",
      "\n",
      "spread, 0, 50, 0, 0, 0, e21, 15, 666666\n",
      "spread, 50, 0, 0, 0, 0, e21, 16, 666666\n",
      "spread, 0, -50, 0, 0, 0, e21, 17, 666666\n",
      "spread, -50, 0, 0, 0, 0, e21, 18, 666666\n",
      "\n",
      "spread, 0, 50, 0, 0, 0, e26, 27, 666666\n",
      "spread, 50, 0, 0, 0, 0, e26, 28, 666666\n",
      "spread, 0, -50, 0, 0, 0, e26, 29, 666666\n",
      "spread, -50, 0, 0, 0, 0, e26, 30, 666666\n",
      "\n",
      "spread, 0, 50, 0, 0, 0, e35, 31, 666666\n",
      "spread, 50, 0, 0, 0, 0, e35, 32, 666666\n",
      "spread, 0, -50, 0, 0, 0, e35, 33, 666666\n",
      "spread, -50, 0, 0, 0, 0, e35, 34, 666666\n",
      "\n",
      "square, 0, 0, 135, 0, 0, e25, 36, 666666\n",
      "square, 0, 0, 135, 0, 0, e25, 37, 666666\n",
      "square, 0, 0, 135, 0, 0, e25, 38, 666666\n",
      "square, 0, 0, 135, 0, 0, e25, 39, 666666\n",
      "square, 0, 0, 135, 0, 0, e25, 40, 666666\n",
      "square, 0, 0, 135, 0, 0, e25, 41, 666666\n",
      "\n",
      "\n",
      "\n",
      "tri, 0, 0, 0, 0, 0, e0, 108, CC0000\n",
      "tri, 0, -600, 0, 0, 0, e108, 109, CC0000\n",
      "tri, 0, 0, 0, 0, 0, e109, 120, CC0000\n",
      "switch4b, 0, 400, 90, 0, 0, e120, 107, FF0000\n",
      "core, 0, 0, 180, 0.5, 0.5, e107, 101, FF0033\n",
      "\n",
      "rhombus, 1, 68, 77, 1.21, 0.61, e101, 138, FF0033\n",
      "rect, -1, 34, 0, 3.01, 1.01, e138, 139, FF0033\n",
      "single, -30, 7, 0, 0.7, 0.7, e139, 133, FF0033\n",
      "single, 13, 16, 0, 0.5, 0.5, e139, 132, FF0033\n",
      "single, -13, 16, 0, 0.5, 0.5, e139, 131, FF0033\n",
      "single, 30, 7, 0, 0.7, 0.7, e139, 130, FF0033\n",
      "forcefieldLine, 31, 40, -124, -0.61, 0.5, e139, 128, FFFFFF\n",
      "forcefieldLine, -31, 40, 124, 0.61, 0.5, e139, 127, FFFFFF\n",
      "oddbox2, -15, 23, -135, -0.5, -0.3, e101, 137, FF0033\n",
      "c, -33, 51, 0, 1, 1, e137, 104, FFFFFF\n",
      "laser_, 1, 8, 0, 0, 0, e104, 135, FFFFFF\n",
      "stick, 0, 0, 0, 0.4, 0.2, e104, 105, 990000\n",
      "oddbox2, 15, 23, 135, 0.5, -0.3, e101, 136, FF0033\n",
      "c, 34, 51, 0, 1, 1, e136, 103, FFFFFF\n",
      "laser_, -2, 8, 0, 0, 0, e103, 134, FFFFFF\n",
      "stick, 0, 0, 0, 0.4, 0.2, e103, 106, 990000\n",
      "tri, 0, -47, 0, 1.7, 2.6, e101, 126, FF0033\n",
      "oddbox2, -17, -6, 135, -0.5, 0.5, e101, 125, FF0033\n",
      "oddbox2, 17, -6, -135, 0.5, 0.5, e101, 122, FF0033\n",
      "c, 0, 0, 0, 2, 4, e101, 102, FF99BB\n",
      "\n"
     ]
    }
   ],
   "source": [
    "print(txt)\n",
    "copy(txt)"
   ]
  },
  {
   "cell_type": "code",
   "execution_count": null,
   "metadata": {},
   "outputs": [],
   "source": []
  },
  {
   "cell_type": "markdown",
   "metadata": {},
   "source": [
    "# 3. \"star\"-ship (initially frozen)"
   ]
  },
  {
   "cell_type": "code",
   "execution_count": 33,
   "metadata": {},
   "outputs": [],
   "source": [
    "cmds += ['','',''] # some blank lines to show where this section starts"
   ]
  },
  {
   "cell_type": "code",
   "execution_count": 34,
   "metadata": {},
   "outputs": [],
   "source": [
    "# must be higher than all parts in above sections\n",
    "STARSHIP_STARTING_ID = 200"
   ]
  },
  {
   "cell_type": "code",
   "execution_count": 35,
   "metadata": {},
   "outputs": [],
   "source": [
    "parts['core'] = 0\n",
    "parts['starship_center'] = STARSHIP_STARTING_ID + 8\n",
    "\n",
    "starship_ids = (np.array([8,13,12,11,10,9,7,6,4,3,2,16,18,15,17,14])+STARSHIP_STARTING_ID).tolist()\n",
    "for id in starship_ids:\n",
    "    parts['starship_part_{id}'] = id"
   ]
  },
  {
   "cell_type": "code",
   "execution_count": 36,
   "metadata": {},
   "outputs": [
    {
     "name": "stdout",
     "output_type": "stream",
     "text": [
      "makeInvincible, 0,208,213,212,211,210,209,207,206,204,203,202,216,218,215,217,214\n"
     ]
    }
   ],
   "source": [
    "append(makeInvincible([parts['core']]+starship_ids))"
   ]
  },
  {
   "cell_type": "code",
   "execution_count": 37,
   "metadata": {},
   "outputs": [
    {
     "name": "stdout",
     "output_type": "stream",
     "text": [
      "setHP, 10, 202,203,204,205,206,207\n"
     ]
    }
   ],
   "source": [
    "# raise HP of the star (triangle pieces)\n",
    "_tmp = (np.array([2,3,4,5,6,7]) + STARSHIP_STARTING_ID).tolist()\n",
    "append(setHP(_tmp, 10))"
   ]
  },
  {
   "cell_type": "code",
   "execution_count": 38,
   "metadata": {},
   "outputs": [
    {
     "name": "stdout",
     "output_type": "stream",
     "text": [
      "makeTrigger, death, 14, makeTrigger, time, 60, waypoints, 1, 3, 100,100,   700,100,   700,500,   100,500\n",
      "makeTrigger, death, 14, makeTrigger, time, 60, randomRotate,20\n"
     ]
    }
   ],
   "source": [
    "append([\n",
    "    makeTriggerDeath(parts['third_replacement'], makeTriggerTime(60, 'waypoints, 1, 3, 100,100,   700,100,   700,500,   100,500')),\n",
    "    makeTriggerDeath(parts['third_replacement'], makeTriggerTime(60, 'randomRotate,20')),\n",
    "])"
   ]
  },
  {
   "cell_type": "code",
   "execution_count": 39,
   "metadata": {},
   "outputs": [
    {
     "name": "stdout",
     "output_type": "stream",
     "text": [
      "disableGun, 209,210,211,212,213,214,215,216,217,218\n",
      "makeTrigger, death, 14, makeTrigger, time, 60, enableGun, 209,210,211,212,213,214,215,216,217,218\n"
     ]
    }
   ],
   "source": [
    "# guns start OFF then turn ON when last trigger defeated\n",
    "starship_guns = (np.array(list(range(9,13+1)) + list(range(14,18+1)))+STARSHIP_STARTING_ID).tolist()\n",
    "append(disableGun(starship_guns))\n",
    "append(makeTriggerDeath(parts['third_replacement'], makeTriggerTime(60, enableGun(starship_guns))))"
   ]
  },
  {
   "cell_type": "code",
   "execution_count": 40,
   "metadata": {},
   "outputs": [
    {
     "name": "stdout",
     "output_type": "stream",
     "text": [
      "makeTrigger, death, 14, destroy, 4\n",
      "makeTrigger, death, 14, makeTrigger, time, 60, col, FFCC33, 0,208,213,212,211,210,209,207,206,204,203,202,216,218,215,217,214\n",
      "makeTrigger, death, 14, makeTrigger, time, 60, makeVulnerable, 208,213,212,211,210,209,207,206,204,203,202,216,218,215,217,214\n"
     ]
    }
   ],
   "source": [
    "# kill last wall\n",
    "append(makeTriggerDeath(parts['third_replacement'], destroy(parts['corner_BR'])))\n",
    "\n",
    "# set star to yellow once last trigger defeated (and remove invincibility)\n",
    "c_yellow = 'FFCC33'\n",
    "append(makeTriggerDeath(parts['third_replacement'], makeTriggerTime(60, setColor([parts['core']] + starship_ids, c_yellow))))\n",
    "append(makeTriggerDeath(parts['third_replacement'], makeTriggerTime(60, makeVulnerable(starship_ids))))"
   ]
  },
  {
   "cell_type": "code",
   "execution_count": 41,
   "metadata": {},
   "outputs": [
    {
     "name": "stdout",
     "output_type": "stream",
     "text": [
      "makeTrigger, death, 208, waypoints,0,5,400,300\n",
      "makeTrigger, death, 208, stop, randomRotate,20\n",
      "makeTrigger, death, 208, rotatePart, 0, 1, -10, 10, 0\n"
     ]
    }
   ],
   "source": [
    "append(makeTriggerDeath(parts['starship_center'], 'waypoints,0,5,400,300'))\n",
    "append(makeTriggerDeath(parts['starship_center'], stop('randomRotate,20')))\n",
    "append(makeTriggerDeath(parts['starship_center'], rotate(0,1,-10,10,0)))"
   ]
  },
  {
   "cell_type": "code",
   "execution_count": 42,
   "metadata": {},
   "outputs": [],
   "source": [
    "# set core to self-destruct after starship defeated\n",
    "#self_destruct = makeTriggerTime(secToFrames(10), destroy(parts['core']))\n",
    "#append(makeTriggerDeath(parts['starship_center'], self_destruct))"
   ]
  },
  {
   "cell_type": "code",
   "execution_count": 43,
   "metadata": {},
   "outputs": [
    {
     "name": "stdout",
     "output_type": "stream",
     "text": [
      "\n",
      "c, 0, 0, 0, 1.1, 1.1, e0, 208, 33CCFF\n",
      "laser_, 47, 17, -87, 0.7, 0.7, e208, 213, 33CCFF\n",
      "laser_, -1, 51, 0, 0.7, 0.7, e208, 212, 33CCFF\n",
      "laser_, -31, -40, 150, 0.7, 0.7, e208, 211, 33CCFF\n",
      "laser_, -47, 17, 87, 0.7, 0.7, e208, 210, 33CCFF\n",
      "laser_, 31, -40, -150, 0.7, 0.7, e208, 209, 33CCFF\n",
      "tri, 29, 39, -40, 2, 5, e208, 207, 33CCFF\n",
      "tri, -40, -16, 119, -2, 5, e208, 206, 33CCFF\n",
      "tri, -29, 39, 40, -2, 5, e208, 204, 33CCFF\n",
      "tri, 40, -16, -119, 2, 5, e208, 203, 33CCFF\n",
      "tri, 0, -46, 180, 2, 5, e208, 202, 33CCFF\n",
      "singu, 41, 50, 0, 0, 0, e207, 216, 666666\n",
      "singu, -56, -32, 0, 0, 0, e206, 218, 666666\n",
      "singu, -43, 48, 0, 0, 0, e204, 215, 666666\n",
      "singu, 56, -32, 0, 0, 0, e203, 217, 666666\n",
      "singu, 0, -64, 0, 0, 0, e202, 214, 666666\n",
      "\n"
     ]
    }
   ],
   "source": [
    "txt += '\\n\\n\\n'\n",
    " \n",
    "tmp = f'''\n",
    "c, 0, 0, 0, 1.1, 1.1, e0, {STARSHIP_STARTING_ID+8}, {c_frozen}\n",
    "laser_, 47, 17, -87, 0.7, 0.7, e{STARSHIP_STARTING_ID+8}, {STARSHIP_STARTING_ID+13}, {c_frozen}\n",
    "laser_, -1, 51, 0, 0.7, 0.7, e{STARSHIP_STARTING_ID+8}, {STARSHIP_STARTING_ID+12}, {c_frozen}\n",
    "laser_, -31, -40, 150, 0.7, 0.7, e{STARSHIP_STARTING_ID+8}, {STARSHIP_STARTING_ID+11}, {c_frozen}\n",
    "laser_, -47, 17, 87, 0.7, 0.7, e{STARSHIP_STARTING_ID+8}, {STARSHIP_STARTING_ID+10}, {c_frozen}\n",
    "laser_, 31, -40, -150, 0.7, 0.7, e{STARSHIP_STARTING_ID+8}, {STARSHIP_STARTING_ID+9}, {c_frozen}\n",
    "tri, 29, 39, -40, 2, 5, e{STARSHIP_STARTING_ID+8}, {STARSHIP_STARTING_ID+7}, {c_frozen}\n",
    "tri, -40, -16, 119, -2, 5, e{STARSHIP_STARTING_ID+8}, {STARSHIP_STARTING_ID+6}, {c_frozen}\n",
    "tri, -29, 39, 40, -2, 5, e{STARSHIP_STARTING_ID+8}, {STARSHIP_STARTING_ID+4}, {c_frozen}\n",
    "tri, 40, -16, -119, 2, 5, e{STARSHIP_STARTING_ID+8}, {STARSHIP_STARTING_ID+3}, {c_frozen}\n",
    "tri, 0, -46, 180, 2, 5, e{STARSHIP_STARTING_ID+8}, {STARSHIP_STARTING_ID+2}, {c_frozen}\n",
    "singu, 41, 50, 0, {invis}, e{STARSHIP_STARTING_ID+7}, {STARSHIP_STARTING_ID+16}, 666666\n",
    "singu, -56, -32, 0, {invis}, e{STARSHIP_STARTING_ID+6}, {STARSHIP_STARTING_ID+18}, 666666\n",
    "singu, -43, 48, 0, {invis}, e{STARSHIP_STARTING_ID+4}, {STARSHIP_STARTING_ID+15}, 666666\n",
    "singu, 56, -32, 0, {invis}, e{STARSHIP_STARTING_ID+3}, {STARSHIP_STARTING_ID+17}, 666666\n",
    "singu, 0, -64, 0, {invis}, e{STARSHIP_STARTING_ID+2}, {STARSHIP_STARTING_ID+14}, 666666\n",
    "'''\n",
    "print(tmp)\n",
    "txt += tmp"
   ]
  },
  {
   "cell_type": "markdown",
   "metadata": {},
   "source": [
    "# 4. Special-effect Ending"
   ]
  },
  {
   "cell_type": "markdown",
   "metadata": {},
   "source": [
    "### First, a tool to capture click coordinates:"
   ]
  },
  {
   "cell_type": "code",
   "execution_count": 44,
   "metadata": {},
   "outputs": [],
   "source": [
    "import numpy as np\n",
    "import matplotlib.pyplot as plt\n",
    "%matplotlib qt\n",
    "import matplotlib.ticker as plticker\n"
   ]
  },
  {
   "cell_type": "code",
   "execution_count": 45,
   "metadata": {},
   "outputs": [
    {
     "name": "stderr",
     "output_type": "stream",
     "text": [
      "C:\\Programs\\Miniconda3\\envs\\tf\\lib\\site-packages\\ipykernel_launcher.py:35: UserWarning: Matplotlib is currently using module://ipykernel.pylab.backend_inline, which is a non-GUI backend, so cannot show the figure.\n"
     ]
    },
    {
     "data": {
      "image/png": "[encoded data removed]",
      "text/plain": [
       "<Figure size 576x432 with 1 Axes>"
      ]
     },
     "metadata": {
      "needs_background": "light"
     },
     "output_type": "display_data"
    }
   ],
   "source": [
    "fig = plt.figure(figsize=(8,6))\n",
    "ax = fig.add_subplot(111)\n",
    "ax.set_xlim(0,800)\n",
    "ax.set_ylim(0,600)\n",
    "\n",
    "loc = plticker.MultipleLocator(base=800/11) # this locator puts ticks at regular intervals\n",
    "ax.xaxis.set_major_locator(loc)\n",
    "\n",
    "plt.grid(True)\n",
    "\n",
    "coords = []\n",
    "\n",
    "def onclick(event):\n",
    "#     global ix, iy\n",
    "    ix, iy = event.xdata, event.ydata\n",
    "    \n",
    "    # invert\n",
    "    y = 600 - iy\n",
    "    x = ix\n",
    "    \n",
    "    print(f'{x:0.1f},{y:0.1f}')\n",
    "\n",
    "    global coords\n",
    "    coords.append((x, y))\n",
    "\n",
    "#     if len(coords) == 2:\n",
    "#         fig.canvas.mpl_disconnect(cid)\n",
    "\n",
    "    ax.scatter([ix], [iy], c='b', s=150)\n",
    "    plt.draw()\n",
    "\n",
    "    return coords\n",
    "cid = fig.canvas.mpl_connect('button_press_event', onclick)\n",
    "\n",
    "fig.show()"
   ]
  },
  {
   "cell_type": "markdown",
   "metadata": {},
   "source": [
    "### These are the points I made, in the shape of a heart"
   ]
  },
  {
   "cell_type": "code",
   "execution_count": 46,
   "metadata": {},
   "outputs": [],
   "source": [
    "heart_points = [\n",
    "(397.4,512.4),\n",
    "(396.1,487.7),\n",
    "(385.8,457.7),\n",
    "(367.7,425.1),\n",
    "(340.6,382.1),\n",
    "(320.0,352.1),\n",
    "(303.2,330.0),\n",
    "(282.6,311.7),\n",
    "(259.4,281.8),\n",
    "(240.0,245.3),\n",
    "(221.9,204.9),\n",
    "(221.9,164.5),\n",
    "(236.1,143.6),\n",
    "(265.8,126.7),\n",
    "(303.2,121.5),\n",
    "(326.5,125.4),\n",
    "(360.0,146.3),\n",
    "(396.1,178.8),\n",
    "(418.1,212.7),\n",
    "(440.0,191.9),\n",
    "(452.9,174.9),\n",
    "(486.5,150.2),\n",
    "(512.3,130.6),\n",
    "(545.8,122.8),\n",
    "(566.5,122.8),\n",
    "(591.0,145.0),\n",
    "(603.9,160.6),\n",
    "(606.5,207.5),\n",
    "(600.0,236.2),\n",
    "(583.2,258.3),\n",
    "(561.3,279.2),\n",
    "(541.9,317.0),\n",
    "(529.0,339.1),\n",
    "(505.8,365.2),\n",
    "(483.9,387.3),\n",
    "(465.8,421.2),\n",
    "(449.0,447.3),\n",
    "(433.5,468.1),\n",
    "(419.4,491.6),\n",
    "]"
   ]
  },
  {
   "cell_type": "markdown",
   "metadata": {},
   "source": [
    "### Make parts and code for special effects"
   ]
  },
  {
   "cell_type": "code",
   "execution_count": 47,
   "metadata": {
    "scrolled": true
   },
   "outputs": [
    {
     "name": "stdout",
     "output_type": "stream",
     "text": [
      "setDistance, 9999, 300\n",
      "makeTrigger, death, 208, setDistance, 0, 300\n",
      "makeTrigger, death, 208, makeTrigger, time, 122, setWidth, 20, 301\n",
      "makeTrigger, death, 208, makeTrigger, time, 122, setHeight, 20, 301\n",
      "makeTrigger, death, 208, makeTrigger, time, 127, col, CC0000, 301\n",
      "makeTrigger, death, 208, makeTrigger, time, 124, setWidth, 20, 302\n",
      "makeTrigger, death, 208, makeTrigger, time, 124, setHeight, 20, 302\n",
      "makeTrigger, death, 208, makeTrigger, time, 129, col, CC0000, 302\n",
      "makeTrigger, death, 208, makeTrigger, time, 126, setWidth, 20, 303\n",
      "makeTrigger, death, 208, makeTrigger, time, 126, setHeight, 20, 303\n",
      "makeTrigger, death, 208, makeTrigger, time, 131, col, CC0000, 303\n",
      "makeTrigger, death, 208, makeTrigger, time, 128, setWidth, 20, 304\n",
      "makeTrigger, death, 208, makeTrigger, time, 128, setHeight, 20, 304\n",
      "makeTrigger, death, 208, makeTrigger, time, 133, col, CC0000, 304\n",
      "makeTrigger, death, 208, makeTrigger, time, 130, setWidth, 20, 305\n",
      "makeTrigger, death, 208, makeTrigger, time, 130, setHeight, 20, 305\n",
      "makeTrigger, death, 208, makeTrigger, time, 135, col, CC0000, 305\n",
      "makeTrigger, death, 208, makeTrigger, time, 132, setWidth, 20, 306\n",
      "makeTrigger, death, 208, makeTrigger, time, 132, setHeight, 20, 306\n",
      "makeTrigger, death, 208, makeTrigger, time, 137, col, CC0000, 306\n",
      "makeTrigger, death, 208, makeTrigger, time, 134, setWidth, 20, 307\n",
      "makeTrigger, death, 208, makeTrigger, time, 134, setHeight, 20, 307\n",
      "makeTrigger, death, 208, makeTrigger, time, 139, col, CC0000, 307\n",
      "makeTrigger, death, 208, makeTrigger, time, 136, setWidth, 20, 308\n",
      "makeTrigger, death, 208, makeTrigger, time, 136, setHeight, 20, 308\n",
      "makeTrigger, death, 208, makeTrigger, time, 141, col, CC0000, 308\n",
      "makeTrigger, death, 208, makeTrigger, time, 138, setWidth, 20, 309\n",
      "makeTrigger, death, 208, makeTrigger, time, 138, setHeight, 20, 309\n",
      "makeTrigger, death, 208, makeTrigger, time, 143, col, CC0000, 309\n",
      "makeTrigger, death, 208, makeTrigger, time, 140, setWidth, 20, 310\n",
      "makeTrigger, death, 208, makeTrigger, time, 140, setHeight, 20, 310\n",
      "makeTrigger, death, 208, makeTrigger, time, 145, col, CC0000, 310\n",
      "makeTrigger, death, 208, makeTrigger, time, 142, setWidth, 20, 311\n",
      "makeTrigger, death, 208, makeTrigger, time, 142, setHeight, 20, 311\n",
      "makeTrigger, death, 208, makeTrigger, time, 147, col, CC0000, 311\n",
      "makeTrigger, death, 208, makeTrigger, time, 144, setWidth, 20, 312\n",
      "makeTrigger, death, 208, makeTrigger, time, 144, setHeight, 20, 312\n",
      "makeTrigger, death, 208, makeTrigger, time, 149, col, CC0000, 312\n",
      "makeTrigger, death, 208, makeTrigger, time, 146, setWidth, 20, 313\n",
      "makeTrigger, death, 208, makeTrigger, time, 146, setHeight, 20, 313\n",
      "makeTrigger, death, 208, makeTrigger, time, 151, col, CC0000, 313\n",
      "makeTrigger, death, 208, makeTrigger, time, 148, setWidth, 20, 314\n",
      "makeTrigger, death, 208, makeTrigger, time, 148, setHeight, 20, 314\n",
      "makeTrigger, death, 208, makeTrigger, time, 153, col, CC0000, 314\n",
      "makeTrigger, death, 208, makeTrigger, time, 150, setWidth, 20, 315\n",
      "makeTrigger, death, 208, makeTrigger, time, 150, setHeight, 20, 315\n",
      "makeTrigger, death, 208, makeTrigger, time, 155, col, CC0000, 315\n",
      "makeTrigger, death, 208, makeTrigger, time, 152, setWidth, 20, 316\n",
      "makeTrigger, death, 208, makeTrigger, time, 152, setHeight, 20, 316\n",
      "makeTrigger, death, 208, makeTrigger, time, 157, col, CC0000, 316\n",
      "makeTrigger, death, 208, makeTrigger, time, 154, setWidth, 20, 317\n",
      "makeTrigger, death, 208, makeTrigger, time, 154, setHeight, 20, 317\n",
      "makeTrigger, death, 208, makeTrigger, time, 159, col, CC0000, 317\n",
      "makeTrigger, death, 208, makeTrigger, time, 156, setWidth, 20, 318\n",
      "makeTrigger, death, 208, makeTrigger, time, 156, setHeight, 20, 318\n",
      "makeTrigger, death, 208, makeTrigger, time, 161, col, CC0000, 318\n",
      "makeTrigger, death, 208, makeTrigger, time, 158, setWidth, 20, 319\n",
      "makeTrigger, death, 208, makeTrigger, time, 158, setHeight, 20, 319\n",
      "makeTrigger, death, 208, makeTrigger, time, 163, col, CC0000, 319\n",
      "makeTrigger, death, 208, makeTrigger, time, 160, setWidth, 20, 320\n",
      "makeTrigger, death, 208, makeTrigger, time, 160, setHeight, 20, 320\n",
      "makeTrigger, death, 208, makeTrigger, time, 165, col, CC0000, 320\n",
      "makeTrigger, death, 208, makeTrigger, time, 162, setWidth, 20, 321\n",
      "makeTrigger, death, 208, makeTrigger, time, 162, setHeight, 20, 321\n",
      "makeTrigger, death, 208, makeTrigger, time, 167, col, CC0000, 321\n",
      "makeTrigger, death, 208, makeTrigger, time, 164, setWidth, 20, 322\n",
      "makeTrigger, death, 208, makeTrigger, time, 164, setHeight, 20, 322\n",
      "makeTrigger, death, 208, makeTrigger, time, 169, col, CC0000, 322\n",
      "makeTrigger, death, 208, makeTrigger, time, 166, setWidth, 20, 323\n",
      "makeTrigger, death, 208, makeTrigger, time, 166, setHeight, 20, 323\n",
      "makeTrigger, death, 208, makeTrigger, time, 171, col, CC0000, 323\n",
      "makeTrigger, death, 208, makeTrigger, time, 168, setWidth, 20, 324\n",
      "makeTrigger, death, 208, makeTrigger, time, 168, setHeight, 20, 324\n",
      "makeTrigger, death, 208, makeTrigger, time, 173, col, CC0000, 324\n",
      "makeTrigger, death, 208, makeTrigger, time, 170, setWidth, 20, 325\n",
      "makeTrigger, death, 208, makeTrigger, time, 170, setHeight, 20, 325\n",
      "makeTrigger, death, 208, makeTrigger, time, 175, col, CC0000, 325\n",
      "makeTrigger, death, 208, makeTrigger, time, 172, setWidth, 20, 326\n",
      "makeTrigger, death, 208, makeTrigger, time, 172, setHeight, 20, 326\n",
      "makeTrigger, death, 208, makeTrigger, time, 177, col, CC0000, 326\n",
      "makeTrigger, death, 208, makeTrigger, time, 174, setWidth, 20, 327\n",
      "makeTrigger, death, 208, makeTrigger, time, 174, setHeight, 20, 327\n",
      "makeTrigger, death, 208, makeTrigger, time, 179, col, CC0000, 327\n",
      "makeTrigger, death, 208, makeTrigger, time, 176, setWidth, 20, 328\n",
      "makeTrigger, death, 208, makeTrigger, time, 176, setHeight, 20, 328\n",
      "makeTrigger, death, 208, makeTrigger, time, 181, col, CC0000, 328\n",
      "makeTrigger, death, 208, makeTrigger, time, 178, setWidth, 20, 329\n",
      "makeTrigger, death, 208, makeTrigger, time, 178, setHeight, 20, 329\n",
      "makeTrigger, death, 208, makeTrigger, time, 183, col, CC0000, 329\n",
      "makeTrigger, death, 208, makeTrigger, time, 180, setWidth, 20, 330\n",
      "makeTrigger, death, 208, makeTrigger, time, 180, setHeight, 20, 330\n",
      "makeTrigger, death, 208, makeTrigger, time, 185, col, CC0000, 330\n",
      "makeTrigger, death, 208, makeTrigger, time, 182, setWidth, 20, 331\n",
      "makeTrigger, death, 208, makeTrigger, time, 182, setHeight, 20, 331\n",
      "makeTrigger, death, 208, makeTrigger, time, 187, col, CC0000, 331\n",
      "makeTrigger, death, 208, makeTrigger, time, 184, setWidth, 20, 332\n",
      "makeTrigger, death, 208, makeTrigger, time, 184, setHeight, 20, 332\n",
      "makeTrigger, death, 208, makeTrigger, time, 189, col, CC0000, 332\n",
      "makeTrigger, death, 208, makeTrigger, time, 186, setWidth, 20, 333\n",
      "makeTrigger, death, 208, makeTrigger, time, 186, setHeight, 20, 333\n",
      "makeTrigger, death, 208, makeTrigger, time, 191, col, CC0000, 333\n",
      "makeTrigger, death, 208, makeTrigger, time, 188, setWidth, 20, 334\n",
      "makeTrigger, death, 208, makeTrigger, time, 188, setHeight, 20, 334\n",
      "makeTrigger, death, 208, makeTrigger, time, 193, col, CC0000, 334\n",
      "makeTrigger, death, 208, makeTrigger, time, 190, setWidth, 20, 335\n",
      "makeTrigger, death, 208, makeTrigger, time, 190, setHeight, 20, 335\n",
      "makeTrigger, death, 208, makeTrigger, time, 195, col, CC0000, 335\n",
      "makeTrigger, death, 208, makeTrigger, time, 192, setWidth, 20, 336\n",
      "makeTrigger, death, 208, makeTrigger, time, 192, setHeight, 20, 336\n",
      "makeTrigger, death, 208, makeTrigger, time, 197, col, CC0000, 336\n",
      "makeTrigger, death, 208, makeTrigger, time, 194, setWidth, 20, 337\n",
      "makeTrigger, death, 208, makeTrigger, time, 194, setHeight, 20, 337\n",
      "makeTrigger, death, 208, makeTrigger, time, 199, col, CC0000, 337\n",
      "makeTrigger, death, 208, makeTrigger, time, 196, setWidth, 20, 338\n",
      "makeTrigger, death, 208, makeTrigger, time, 196, setHeight, 20, 338\n",
      "makeTrigger, death, 208, makeTrigger, time, 201, col, CC0000, 338\n",
      "makeTrigger, death, 208, makeTrigger, time, 198, setWidth, 20, 339\n",
      "makeTrigger, death, 208, makeTrigger, time, 198, setHeight, 20, 339\n",
      "makeTrigger, death, 208, makeTrigger, time, 203, col, CC0000, 339\n",
      "makeTrigger, death, 208, makeTrigger, time, 233, destroy, 0\n"
     ]
    }
   ],
   "source": [
    "# must be higher than all parts in above sections\n",
    "HEART_STARTING_ID = 300\n",
    "\n",
    "# add break in the text (for help with debugging)\n",
    "txt += '\\n\\n\\n'\n",
    "\n",
    "# parent part to hold all the text parts\n",
    "text_parent_id = HEART_STARTING_ID\n",
    "txt += f'rightTri, 0, 0, 0, {invis}, e0, {text_parent_id}, 0066FF'\n",
    "\n",
    "# parent will sit far away until needed\n",
    "append(setDistance(text_parent_id, FAR_AWAY))\n",
    "\n",
    "# make text parts\n",
    "_ids = []\n",
    "for idx, (x, y) in enumerate(heart_points):\n",
    "    new_id = HEART_STARTING_ID+1+idx\n",
    "    txt += f'c, {x-400:0.2f}, {y-300:0.2f}, 0, {invis}, e{text_parent_id}, {new_id}, FFFFFF'\n",
    "    txt += '\\n'\n",
    "    _ids.append(new_id)\n",
    "\n",
    "########### next, make a whole bunch of triggers that all happen \"on_death\" (meaning, once the final starship is destroyed)\n",
    "\n",
    "# helper function to make code more succinct\n",
    "on_death = lambda cmd: append(makeTriggerDeath(parts['starship_center'], cmd))\n",
    "## change trigger ID, just for testing (without having to beat the whole level)\n",
    "#on_death = lambda cmd: append(makeTriggerDeath(339, cmd)) # for testing\n",
    "\n",
    "# first, move into position\n",
    "on_death(setDistance(text_parent_id, 0))\n",
    "\n",
    "# then, make the text appear, one circle at a time, and do color effect\n",
    "delay = 2\n",
    "init_time_delay = 120\n",
    "for idx, id in enumerate(_ids):\n",
    "    t = init_time_delay + (idx+1)*delay\n",
    "    \n",
    "    # change size from 0 (this makes it suddenly appear on-screen)\n",
    "    grow = setSize(id, 20)\n",
    "    on_death(makeTriggerTime(t, grow[0]))\n",
    "    on_death(makeTriggerTime(t, grow[1]))\n",
    "    \n",
    "    # change color, for effect, a split second later\n",
    "    change_color = setColor(id, 'CC0000')\n",
    "    on_death(makeTriggerTime(t+5, change_color))\n",
    "    \n",
    "# when done, end level\n",
    "on_death(makeTriggerTime(init_time_delay+(idx+1)*delay+5+30, destroy(0)))"
   ]
  },
  {
   "cell_type": "code",
   "execution_count": null,
   "metadata": {},
   "outputs": [],
   "source": []
  },
  {
   "cell_type": "markdown",
   "metadata": {},
   "source": [
    "# Finally, copy each of these to the game editor"
   ]
  },
  {
   "cell_type": "code",
   "execution_count": 50,
   "metadata": {
    "scrolled": true
   },
   "outputs": [
    {
     "name": "stdout",
     "output_type": "stream",
     "text": [
      "makeInvincible, 8\n",
      "makeTrigger, death, 5, setWidth, 2000, 8\n",
      "makeTrigger, death, 5, setHeight, 2000, 8\n",
      "makeTrigger, death, 6, setWidth, 2000, 8\n",
      "makeTrigger, death, 6, setHeight, 2000, 8\n",
      "makeTrigger, death, 7, setWidth, 2000, 8\n",
      "makeTrigger, death, 7, setHeight, 2000, 8\n",
      "makeTrigger, death, 9, setDistance, 9999, 7\n",
      "setDistance, 9999, 12\n",
      "makeTrigger, death, 9, setDistance, 282.84, 12\n",
      "makeTrigger, death, 12, setDistance, 9999, 5\n",
      "setDistance, 9999, 13\n",
      "makeTrigger, death, 12, setDistance, 282.84, 13\n",
      "makeTrigger, death, 13, setDistance, 9999, 6\n",
      "setDistance, 9999, 14\n",
      "makeTrigger, death, 13, setDistance, 282.84, 14\n",
      "makeInvincible, 22,23,24,25\n",
      "makeTrigger, death, 9, makeTrigger, timeRepeat, 0, 330, enableGun, 15\n",
      "makeTrigger, death, 9, makeTrigger, timeRepeat, 30, 330, disableGun, 15\n",
      "makeTrigger, death, 9, makeTrigger, timeRepeat, 0, 3, setGunTime, 298, 15\n",
      "makeTrigger, death, 9, makeTrigger, timeRepeat, 9, 330, enableGun, 16\n",
      "makeTrigger, death, 9, makeTrigger, timeRepeat, 39, 330, disableGun, 16\n",
      "makeTrigger, death, 9, makeTrigger, timeRepeat, 0, 3, setGunTime, 298, 16\n",
      "makeTrigger, death, 9, makeTrigger, timeRepeat, 18, 330, enableGun, 17\n",
      "makeTrigger, death, 9, makeTrigger, timeRepeat, 48, 330, disableGun, 17\n",
      "makeTrigger, death, 9, makeTrigger, timeRepeat, 0, 3, setGunTime, 298, 17\n",
      "makeTrigger, death, 9, makeTrigger, timeRepeat, 27, 330, enableGun, 18\n",
      "makeTrigger, death, 9, makeTrigger, timeRepeat, 57, 330, disableGun, 18\n",
      "makeTrigger, death, 9, makeTrigger, timeRepeat, 0, 3, setGunTime, 298, 18\n",
      "rotatePart, 21, 2\n",
      "makeTrigger, death, 9, makeTrigger, timeRepeat, 60, 330, enableGun, 27\n",
      "makeTrigger, death, 9, makeTrigger, timeRepeat, 90, 330, disableGun, 27\n",
      "makeTrigger, death, 9, makeTrigger, timeRepeat, 0, 3, setGunTime, 298, 27\n",
      "makeTrigger, death, 9, makeTrigger, timeRepeat, 78, 330, enableGun, 28\n",
      "makeTrigger, death, 9, makeTrigger, timeRepeat, 108, 330, disableGun, 28\n",
      "makeTrigger, death, 9, makeTrigger, timeRepeat, 0, 3, setGunTime, 298, 28\n",
      "makeTrigger, death, 9, makeTrigger, timeRepeat, 96, 330, enableGun, 29\n",
      "makeTrigger, death, 9, makeTrigger, timeRepeat, 126, 330, disableGun, 29\n",
      "makeTrigger, death, 9, makeTrigger, timeRepeat, 0, 3, setGunTime, 298, 29\n",
      "makeTrigger, death, 9, makeTrigger, timeRepeat, 114, 330, enableGun, 30\n",
      "makeTrigger, death, 9, makeTrigger, timeRepeat, 144, 330, disableGun, 30\n",
      "makeTrigger, death, 9, makeTrigger, timeRepeat, 0, 3, setGunTime, 298, 30\n",
      "rotatePart, 26, 2\n",
      "makeTrigger, death, 12, makeTrigger, timeRepeat, 300, 180, enableGun, 31\n",
      "makeTrigger, death, 12, makeTrigger, timeRepeat, 330, 180, disableGun, 31\n",
      "makeTrigger, death, 12, makeTrigger, timeRepeat, 0, 2, setGunTime, 298, 31\n",
      "makeTrigger, death, 12, makeTrigger, timeRepeat, 309, 180, enableGun, 32\n",
      "makeTrigger, death, 12, makeTrigger, timeRepeat, 339, 180, disableGun, 32\n",
      "makeTrigger, death, 12, makeTrigger, timeRepeat, 0, 2, setGunTime, 298, 32\n",
      "makeTrigger, death, 12, makeTrigger, timeRepeat, 318, 180, enableGun, 33\n",
      "makeTrigger, death, 12, makeTrigger, timeRepeat, 348, 180, disableGun, 33\n",
      "makeTrigger, death, 12, makeTrigger, timeRepeat, 0, 2, setGunTime, 298, 33\n",
      "makeTrigger, death, 12, makeTrigger, timeRepeat, 327, 180, enableGun, 34\n",
      "makeTrigger, death, 12, makeTrigger, timeRepeat, 357, 180, disableGun, 34\n",
      "makeTrigger, death, 12, makeTrigger, timeRepeat, 0, 2, setGunTime, 298, 34\n",
      "rotatePart, 35, 2\n",
      "disableGun, 15,16,17,18,27,28,29,30,31,32,33,34\n",
      "makeTrigger, death, 13, makeTrigger, timeRepeat, 0, 1, setGunTime, 109, 36\n",
      "makeTrigger, death, 13, enableGun, 36\n",
      "disableGun, 36\n",
      "makeTrigger, death, 13, makeTrigger, timeRepeat, 0, 1, setGunTime, 109, 37\n",
      "makeTrigger, death, 13, enableGun, 37\n",
      "disableGun, 37\n",
      "makeTrigger, death, 13, makeTrigger, timeRepeat, 0, 1, setGunTime, 109, 38\n",
      "makeTrigger, death, 13, enableGun, 38\n",
      "disableGun, 38\n",
      "makeTrigger, death, 13, makeTrigger, timeRepeat, 0, 1, setGunTime, 109, 39\n",
      "makeTrigger, death, 13, enableGun, 39\n",
      "disableGun, 39\n",
      "makeTrigger, death, 13, makeTrigger, timeRepeat, 0, 1, setGunTime, 109, 40\n",
      "makeTrigger, death, 13, enableGun, 40\n",
      "disableGun, 40\n",
      "makeTrigger, death, 13, makeTrigger, timeRepeat, 0, 1, setGunTime, 109, 41\n",
      "makeTrigger, death, 13, enableGun, 41\n",
      "disableGun, 41\n",
      "\n",
      "\n",
      "\n",
      "makeTrigger, timeRepeat, 0, 75, setGunTime, 49, 134,135\n",
      "rotatePart, 105, 20\n",
      "rotatePart, 106, -20\n",
      "rotatePart, 108, 0.3\n",
      "rotatePart, 109, -0.5, 0, 0, 180\n",
      "rotatePart, 120, 0.5, 0, 90, 0\n",
      "rotatePart, 107, -1, 0, 0, 90\n",
      "makeTrigger, timeRepeat, 0, 5, setGunTime, 98, 130,131,132,133\n",
      "\n",
      "\n",
      "\n",
      "makeInvincible, 0,208,213,212,211,210,209,207,206,204,203,202,216,218,215,217,214\n",
      "setHP, 10, 202,203,204,205,206,207\n",
      "makeTrigger, death, 14, makeTrigger, time, 60, waypoints, 1, 3, 100,100,   700,100,   700,500,   100,500\n",
      "makeTrigger, death, 14, makeTrigger, time, 60, randomRotate,20\n",
      "disableGun, 209,210,211,212,213,214,215,216,217,218\n",
      "makeTrigger, death, 14, makeTrigger, time, 60, enableGun, 209,210,211,212,213,214,215,216,217,218\n",
      "makeTrigger, death, 14, destroy, 4\n",
      "makeTrigger, death, 14, makeTrigger, time, 60, col, FFCC33, 0,208,213,212,211,210,209,207,206,204,203,202,216,218,215,217,214\n",
      "makeTrigger, death, 14, makeTrigger, time, 60, makeVulnerable, 208,213,212,211,210,209,207,206,204,203,202,216,218,215,217,214\n",
      "makeTrigger, death, 208, waypoints,0,5,400,300\n",
      "makeTrigger, death, 208, stop, randomRotate,20\n",
      "makeTrigger, death, 208, rotatePart, 0, 1, -10, 10, 0\n",
      "setDistance, 9999, 300\n",
      "makeTrigger, death, 208, setDistance, 0, 300\n",
      "makeTrigger, death, 208, makeTrigger, time, 122, setWidth, 20, 301\n",
      "makeTrigger, death, 208, makeTrigger, time, 122, setHeight, 20, 301\n",
      "makeTrigger, death, 208, makeTrigger, time, 127, col, CC0000, 301\n",
      "makeTrigger, death, 208, makeTrigger, time, 124, setWidth, 20, 302\n",
      "makeTrigger, death, 208, makeTrigger, time, 124, setHeight, 20, 302\n",
      "makeTrigger, death, 208, makeTrigger, time, 129, col, CC0000, 302\n",
      "makeTrigger, death, 208, makeTrigger, time, 126, setWidth, 20, 303\n",
      "makeTrigger, death, 208, makeTrigger, time, 126, setHeight, 20, 303\n",
      "makeTrigger, death, 208, makeTrigger, time, 131, col, CC0000, 303\n",
      "makeTrigger, death, 208, makeTrigger, time, 128, setWidth, 20, 304\n",
      "makeTrigger, death, 208, makeTrigger, time, 128, setHeight, 20, 304\n",
      "makeTrigger, death, 208, makeTrigger, time, 133, col, CC0000, 304\n",
      "makeTrigger, death, 208, makeTrigger, time, 130, setWidth, 20, 305\n",
      "makeTrigger, death, 208, makeTrigger, time, 130, setHeight, 20, 305\n",
      "makeTrigger, death, 208, makeTrigger, time, 135, col, CC0000, 305\n",
      "makeTrigger, death, 208, makeTrigger, time, 132, setWidth, 20, 306\n",
      "makeTrigger, death, 208, makeTrigger, time, 132, setHeight, 20, 306\n",
      "makeTrigger, death, 208, makeTrigger, time, 137, col, CC0000, 306\n",
      "makeTrigger, death, 208, makeTrigger, time, 134, setWidth, 20, 307\n",
      "makeTrigger, death, 208, makeTrigger, time, 134, setHeight, 20, 307\n",
      "makeTrigger, death, 208, makeTrigger, time, 139, col, CC0000, 307\n",
      "makeTrigger, death, 208, makeTrigger, time, 136, setWidth, 20, 308\n",
      "makeTrigger, death, 208, makeTrigger, time, 136, setHeight, 20, 308\n",
      "makeTrigger, death, 208, makeTrigger, time, 141, col, CC0000, 308\n",
      "makeTrigger, death, 208, makeTrigger, time, 138, setWidth, 20, 309\n",
      "makeTrigger, death, 208, makeTrigger, time, 138, setHeight, 20, 309\n",
      "makeTrigger, death, 208, makeTrigger, time, 143, col, CC0000, 309\n",
      "makeTrigger, death, 208, makeTrigger, time, 140, setWidth, 20, 310\n",
      "makeTrigger, death, 208, makeTrigger, time, 140, setHeight, 20, 310\n",
      "makeTrigger, death, 208, makeTrigger, time, 145, col, CC0000, 310\n",
      "makeTrigger, death, 208, makeTrigger, time, 142, setWidth, 20, 311\n",
      "makeTrigger, death, 208, makeTrigger, time, 142, setHeight, 20, 311\n",
      "makeTrigger, death, 208, makeTrigger, time, 147, col, CC0000, 311\n",
      "makeTrigger, death, 208, makeTrigger, time, 144, setWidth, 20, 312\n",
      "makeTrigger, death, 208, makeTrigger, time, 144, setHeight, 20, 312\n",
      "makeTrigger, death, 208, makeTrigger, time, 149, col, CC0000, 312\n",
      "makeTrigger, death, 208, makeTrigger, time, 146, setWidth, 20, 313\n",
      "makeTrigger, death, 208, makeTrigger, time, 146, setHeight, 20, 313\n",
      "makeTrigger, death, 208, makeTrigger, time, 151, col, CC0000, 313\n",
      "makeTrigger, death, 208, makeTrigger, time, 148, setWidth, 20, 314\n",
      "makeTrigger, death, 208, makeTrigger, time, 148, setHeight, 20, 314\n",
      "makeTrigger, death, 208, makeTrigger, time, 153, col, CC0000, 314\n",
      "makeTrigger, death, 208, makeTrigger, time, 150, setWidth, 20, 315\n",
      "makeTrigger, death, 208, makeTrigger, time, 150, setHeight, 20, 315\n",
      "makeTrigger, death, 208, makeTrigger, time, 155, col, CC0000, 315\n",
      "makeTrigger, death, 208, makeTrigger, time, 152, setWidth, 20, 316\n",
      "makeTrigger, death, 208, makeTrigger, time, 152, setHeight, 20, 316\n",
      "makeTrigger, death, 208, makeTrigger, time, 157, col, CC0000, 316\n",
      "makeTrigger, death, 208, makeTrigger, time, 154, setWidth, 20, 317\n",
      "makeTrigger, death, 208, makeTrigger, time, 154, setHeight, 20, 317\n",
      "makeTrigger, death, 208, makeTrigger, time, 159, col, CC0000, 317\n",
      "makeTrigger, death, 208, makeTrigger, time, 156, setWidth, 20, 318\n",
      "makeTrigger, death, 208, makeTrigger, time, 156, setHeight, 20, 318\n",
      "makeTrigger, death, 208, makeTrigger, time, 161, col, CC0000, 318\n",
      "makeTrigger, death, 208, makeTrigger, time, 158, setWidth, 20, 319\n",
      "makeTrigger, death, 208, makeTrigger, time, 158, setHeight, 20, 319\n",
      "makeTrigger, death, 208, makeTrigger, time, 163, col, CC0000, 319\n",
      "makeTrigger, death, 208, makeTrigger, time, 160, setWidth, 20, 320\n",
      "makeTrigger, death, 208, makeTrigger, time, 160, setHeight, 20, 320\n",
      "makeTrigger, death, 208, makeTrigger, time, 165, col, CC0000, 320\n",
      "makeTrigger, death, 208, makeTrigger, time, 162, setWidth, 20, 321\n",
      "makeTrigger, death, 208, makeTrigger, time, 162, setHeight, 20, 321\n",
      "makeTrigger, death, 208, makeTrigger, time, 167, col, CC0000, 321\n",
      "makeTrigger, death, 208, makeTrigger, time, 164, setWidth, 20, 322\n",
      "makeTrigger, death, 208, makeTrigger, time, 164, setHeight, 20, 322\n",
      "makeTrigger, death, 208, makeTrigger, time, 169, col, CC0000, 322\n",
      "makeTrigger, death, 208, makeTrigger, time, 166, setWidth, 20, 323\n",
      "makeTrigger, death, 208, makeTrigger, time, 166, setHeight, 20, 323\n",
      "makeTrigger, death, 208, makeTrigger, time, 171, col, CC0000, 323\n",
      "makeTrigger, death, 208, makeTrigger, time, 168, setWidth, 20, 324\n",
      "makeTrigger, death, 208, makeTrigger, time, 168, setHeight, 20, 324\n",
      "makeTrigger, death, 208, makeTrigger, time, 173, col, CC0000, 324\n",
      "makeTrigger, death, 208, makeTrigger, time, 170, setWidth, 20, 325\n",
      "makeTrigger, death, 208, makeTrigger, time, 170, setHeight, 20, 325\n",
      "makeTrigger, death, 208, makeTrigger, time, 175, col, CC0000, 325\n",
      "makeTrigger, death, 208, makeTrigger, time, 172, setWidth, 20, 326\n",
      "makeTrigger, death, 208, makeTrigger, time, 172, setHeight, 20, 326\n",
      "makeTrigger, death, 208, makeTrigger, time, 177, col, CC0000, 326\n",
      "makeTrigger, death, 208, makeTrigger, time, 174, setWidth, 20, 327\n",
      "makeTrigger, death, 208, makeTrigger, time, 174, setHeight, 20, 327\n",
      "makeTrigger, death, 208, makeTrigger, time, 179, col, CC0000, 327\n",
      "makeTrigger, death, 208, makeTrigger, time, 176, setWidth, 20, 328\n",
      "makeTrigger, death, 208, makeTrigger, time, 176, setHeight, 20, 328\n",
      "makeTrigger, death, 208, makeTrigger, time, 181, col, CC0000, 328\n",
      "makeTrigger, death, 208, makeTrigger, time, 178, setWidth, 20, 329\n",
      "makeTrigger, death, 208, makeTrigger, time, 178, setHeight, 20, 329\n",
      "makeTrigger, death, 208, makeTrigger, time, 183, col, CC0000, 329\n",
      "makeTrigger, death, 208, makeTrigger, time, 180, setWidth, 20, 330\n",
      "makeTrigger, death, 208, makeTrigger, time, 180, setHeight, 20, 330\n",
      "makeTrigger, death, 208, makeTrigger, time, 185, col, CC0000, 330\n",
      "makeTrigger, death, 208, makeTrigger, time, 182, setWidth, 20, 331\n",
      "makeTrigger, death, 208, makeTrigger, time, 182, setHeight, 20, 331\n",
      "makeTrigger, death, 208, makeTrigger, time, 187, col, CC0000, 331\n",
      "makeTrigger, death, 208, makeTrigger, time, 184, setWidth, 20, 332\n",
      "makeTrigger, death, 208, makeTrigger, time, 184, setHeight, 20, 332\n",
      "makeTrigger, death, 208, makeTrigger, time, 189, col, CC0000, 332\n",
      "makeTrigger, death, 208, makeTrigger, time, 186, setWidth, 20, 333\n",
      "makeTrigger, death, 208, makeTrigger, time, 186, setHeight, 20, 333\n",
      "makeTrigger, death, 208, makeTrigger, time, 191, col, CC0000, 333\n",
      "makeTrigger, death, 208, makeTrigger, time, 188, setWidth, 20, 334\n",
      "makeTrigger, death, 208, makeTrigger, time, 188, setHeight, 20, 334\n",
      "makeTrigger, death, 208, makeTrigger, time, 193, col, CC0000, 334\n",
      "makeTrigger, death, 208, makeTrigger, time, 190, setWidth, 20, 335\n",
      "makeTrigger, death, 208, makeTrigger, time, 190, setHeight, 20, 335\n",
      "makeTrigger, death, 208, makeTrigger, time, 195, col, CC0000, 335\n",
      "makeTrigger, death, 208, makeTrigger, time, 192, setWidth, 20, 336\n",
      "makeTrigger, death, 208, makeTrigger, time, 192, setHeight, 20, 336\n",
      "makeTrigger, death, 208, makeTrigger, time, 197, col, CC0000, 336\n",
      "makeTrigger, death, 208, makeTrigger, time, 194, setWidth, 20, 337\n",
      "makeTrigger, death, 208, makeTrigger, time, 194, setHeight, 20, 337\n",
      "makeTrigger, death, 208, makeTrigger, time, 199, col, CC0000, 337\n",
      "makeTrigger, death, 208, makeTrigger, time, 196, setWidth, 20, 338\n",
      "makeTrigger, death, 208, makeTrigger, time, 196, setHeight, 20, 338\n",
      "makeTrigger, death, 208, makeTrigger, time, 201, col, CC0000, 338\n",
      "makeTrigger, death, 208, makeTrigger, time, 198, setWidth, 20, 339\n",
      "makeTrigger, death, 208, makeTrigger, time, 198, setHeight, 20, 339\n",
      "makeTrigger, death, 208, makeTrigger, time, 203, col, CC0000, 339\n",
      "makeTrigger, death, 208, makeTrigger, time, 233, destroy, 0\n"
     ]
    }
   ],
   "source": [
    "copy_to_clipboard(cmds)"
   ]
  },
  {
   "cell_type": "code",
   "execution_count": 49,
   "metadata": {
    "scrolled": true
   },
   "outputs": [
    {
     "name": "stdout",
     "output_type": "stream",
     "text": [
      "\n",
      "core, 400, 300, 0, 0.5, 0.5, -1, 0, 33CCFF\n",
      "c, 1, -3, 0, 0, 0, e0, 8, FF0000\n",
      "switch1b, 200, 200, 0, 1, 1, e0, 4, FFFFFF\n",
      "switch1b, -200, 200, 0, 1, 1, e0, 3, FFFFFF\n",
      "switch1b, 200, -200, 0, 1, 1, e0, 2, FFFFFF\n",
      "switch1b, -200, -200, 0, 1, 1, e0, 1, FFFFFF\n",
      "\n",
      "switch2b, -200, -200, 0, 2, 2, e0, 9, FF0033\n",
      "switch2b, 200, -200, 0, 2, 2, e0, 5, FF0033\n",
      "switch2b, -200, 200, 0, 2, 2, e0, 7, FF0033\n",
      "switch2b, 200, 200, 0, 2, 2, e0, 6, FF0033\n",
      "\n",
      "switch2b, -200, 200, 0, 2, 2, e0, 12, FF0033\n",
      "switch2b, 200, -200, 0, 2, 2, e0, 13, FF0033\n",
      "switch2b, 200, 200, 0, 2, 2, e0, 14, FF0033\n",
      "\n",
      "rect, 20, 20, -45, 5, 1, e1, 22, 339900\n",
      "rect, 20, -20, -135, 5, 1, e3, 23, 339900\n",
      "rect, -20, 20, -135, 5, 1, e2, 24, 339900\n",
      "rect, -20, -20, -45, 5, 1, e4, 25, 339900\n",
      "\n",
      "jet, 0, 0, 0, 0, 0, e3, 21, 0066FF\n",
      "jet, 0, 0, 0, 0, 0, e4, 26, 0066FF\n",
      "jet, 0, 0, 0, 0, 0, e2, 35, 0066FF\n",
      "\n",
      "spread, 0, 50, 0, 0, 0, e21, 15, 666666\n",
      "spread, 50, 0, 0, 0, 0, e21, 16, 666666\n",
      "spread, 0, -50, 0, 0, 0, e21, 17, 666666\n",
      "spread, -50, 0, 0, 0, 0, e21, 18, 666666\n",
      "\n",
      "spread, 0, 50, 0, 0, 0, e26, 27, 666666\n",
      "spread, 50, 0, 0, 0, 0, e26, 28, 666666\n",
      "spread, 0, -50, 0, 0, 0, e26, 29, 666666\n",
      "spread, -50, 0, 0, 0, 0, e26, 30, 666666\n",
      "\n",
      "spread, 0, 50, 0, 0, 0, e35, 31, 666666\n",
      "spread, 50, 0, 0, 0, 0, e35, 32, 666666\n",
      "spread, 0, -50, 0, 0, 0, e35, 33, 666666\n",
      "spread, -50, 0, 0, 0, 0, e35, 34, 666666\n",
      "\n",
      "square, 0, 0, 135, 0, 0, e25, 36, 666666\n",
      "square, 0, 0, 135, 0, 0, e25, 37, 666666\n",
      "square, 0, 0, 135, 0, 0, e25, 38, 666666\n",
      "square, 0, 0, 135, 0, 0, e25, 39, 666666\n",
      "square, 0, 0, 135, 0, 0, e25, 40, 666666\n",
      "square, 0, 0, 135, 0, 0, e25, 41, 666666\n",
      "\n",
      "\n",
      "\n",
      "tri, 0, 0, 0, 0, 0, e0, 108, CC0000\n",
      "tri, 0, -600, 0, 0, 0, e108, 109, CC0000\n",
      "tri, 0, 0, 0, 0, 0, e109, 120, CC0000\n",
      "switch4b, 0, 400, 90, 0, 0, e120, 107, FF0000\n",
      "core, 0, 0, 180, 0.5, 0.5, e107, 101, FF0033\n",
      "\n",
      "rhombus, 1, 68, 77, 1.21, 0.61, e101, 138, FF0033\n",
      "rect, -1, 34, 0, 3.01, 1.01, e138, 139, FF0033\n",
      "single, -30, 7, 0, 0.7, 0.7, e139, 133, FF0033\n",
      "single, 13, 16, 0, 0.5, 0.5, e139, 132, FF0033\n",
      "single, -13, 16, 0, 0.5, 0.5, e139, 131, FF0033\n",
      "single, 30, 7, 0, 0.7, 0.7, e139, 130, FF0033\n",
      "forcefieldLine, 31, 40, -124, -0.61, 0.5, e139, 128, FFFFFF\n",
      "forcefieldLine, -31, 40, 124, 0.61, 0.5, e139, 127, FFFFFF\n",
      "oddbox2, -15, 23, -135, -0.5, -0.3, e101, 137, FF0033\n",
      "c, -33, 51, 0, 1, 1, e137, 104, FFFFFF\n",
      "laser_, 1, 8, 0, 0, 0, e104, 135, FFFFFF\n",
      "stick, 0, 0, 0, 0.4, 0.2, e104, 105, 990000\n",
      "oddbox2, 15, 23, 135, 0.5, -0.3, e101, 136, FF0033\n",
      "c, 34, 51, 0, 1, 1, e136, 103, FFFFFF\n",
      "laser_, -2, 8, 0, 0, 0, e103, 134, FFFFFF\n",
      "stick, 0, 0, 0, 0.4, 0.2, e103, 106, 990000\n",
      "tri, 0, -47, 0, 1.7, 2.6, e101, 126, FF0033\n",
      "oddbox2, -17, -6, 135, -0.5, 0.5, e101, 125, FF0033\n",
      "oddbox2, 17, -6, -135, 0.5, 0.5, e101, 122, FF0033\n",
      "c, 0, 0, 0, 2, 4, e101, 102, FF99BB\n",
      "\n",
      "\n",
      "\n",
      "\n",
      "c, 0, 0, 0, 1.1, 1.1, e0, 208, 33CCFF\n",
      "laser_, 47, 17, -87, 0.7, 0.7, e208, 213, 33CCFF\n",
      "laser_, -1, 51, 0, 0.7, 0.7, e208, 212, 33CCFF\n",
      "laser_, -31, -40, 150, 0.7, 0.7, e208, 211, 33CCFF\n",
      "laser_, -47, 17, 87, 0.7, 0.7, e208, 210, 33CCFF\n",
      "laser_, 31, -40, -150, 0.7, 0.7, e208, 209, 33CCFF\n",
      "tri, 29, 39, -40, 2, 5, e208, 207, 33CCFF\n",
      "tri, -40, -16, 119, -2, 5, e208, 206, 33CCFF\n",
      "tri, -29, 39, 40, -2, 5, e208, 204, 33CCFF\n",
      "tri, 40, -16, -119, 2, 5, e208, 203, 33CCFF\n",
      "tri, 0, -46, 180, 2, 5, e208, 202, 33CCFF\n",
      "singu, 41, 50, 0, 0, 0, e207, 216, 666666\n",
      "singu, -56, -32, 0, 0, 0, e206, 218, 666666\n",
      "singu, -43, 48, 0, 0, 0, e204, 215, 666666\n",
      "singu, 56, -32, 0, 0, 0, e203, 217, 666666\n",
      "singu, 0, -64, 0, 0, 0, e202, 214, 666666\n",
      "\n",
      "\n",
      "\n",
      "rightTri, 0, 0, 0, 0, 0, e0, 300, 0066FFc, -2.60, 212.40, 0, 0, 0, e300, 301, FFFFFF\n",
      "c, -3.90, 187.70, 0, 0, 0, e300, 302, FFFFFF\n",
      "c, -14.20, 157.70, 0, 0, 0, e300, 303, FFFFFF\n",
      "c, -32.30, 125.10, 0, 0, 0, e300, 304, FFFFFF\n",
      "c, -59.40, 82.10, 0, 0, 0, e300, 305, FFFFFF\n",
      "c, -80.00, 52.10, 0, 0, 0, e300, 306, FFFFFF\n",
      "c, -96.80, 30.00, 0, 0, 0, e300, 307, FFFFFF\n",
      "c, -117.40, 11.70, 0, 0, 0, e300, 308, FFFFFF\n",
      "c, -140.60, -18.20, 0, 0, 0, e300, 309, FFFFFF\n",
      "c, -160.00, -54.70, 0, 0, 0, e300, 310, FFFFFF\n",
      "c, -178.10, -95.10, 0, 0, 0, e300, 311, FFFFFF\n",
      "c, -178.10, -135.50, 0, 0, 0, e300, 312, FFFFFF\n",
      "c, -163.90, -156.40, 0, 0, 0, e300, 313, FFFFFF\n",
      "c, -134.20, -173.30, 0, 0, 0, e300, 314, FFFFFF\n",
      "c, -96.80, -178.50, 0, 0, 0, e300, 315, FFFFFF\n",
      "c, -73.50, -174.60, 0, 0, 0, e300, 316, FFFFFF\n",
      "c, -40.00, -153.70, 0, 0, 0, e300, 317, FFFFFF\n",
      "c, -3.90, -121.20, 0, 0, 0, e300, 318, FFFFFF\n",
      "c, 18.10, -87.30, 0, 0, 0, e300, 319, FFFFFF\n",
      "c, 40.00, -108.10, 0, 0, 0, e300, 320, FFFFFF\n",
      "c, 52.90, -125.10, 0, 0, 0, e300, 321, FFFFFF\n",
      "c, 86.50, -149.80, 0, 0, 0, e300, 322, FFFFFF\n",
      "c, 112.30, -169.40, 0, 0, 0, e300, 323, FFFFFF\n",
      "c, 145.80, -177.20, 0, 0, 0, e300, 324, FFFFFF\n",
      "c, 166.50, -177.20, 0, 0, 0, e300, 325, FFFFFF\n",
      "c, 191.00, -155.00, 0, 0, 0, e300, 326, FFFFFF\n",
      "c, 203.90, -139.40, 0, 0, 0, e300, 327, FFFFFF\n",
      "c, 206.50, -92.50, 0, 0, 0, e300, 328, FFFFFF\n",
      "c, 200.00, -63.80, 0, 0, 0, e300, 329, FFFFFF\n",
      "c, 183.20, -41.70, 0, 0, 0, e300, 330, FFFFFF\n",
      "c, 161.30, -20.80, 0, 0, 0, e300, 331, FFFFFF\n",
      "c, 141.90, 17.00, 0, 0, 0, e300, 332, FFFFFF\n",
      "c, 129.00, 39.10, 0, 0, 0, e300, 333, FFFFFF\n",
      "c, 105.80, 65.20, 0, 0, 0, e300, 334, FFFFFF\n",
      "c, 83.90, 87.30, 0, 0, 0, e300, 335, FFFFFF\n",
      "c, 65.80, 121.20, 0, 0, 0, e300, 336, FFFFFF\n",
      "c, 49.00, 147.30, 0, 0, 0, e300, 337, FFFFFF\n",
      "c, 33.50, 168.10, 0, 0, 0, e300, 338, FFFFFF\n",
      "c, 19.40, 191.60, 0, 0, 0, e300, 339, FFFFFF\n",
      "\n"
     ]
    }
   ],
   "source": [
    "print(txt)\n",
    "copy(txt)"
   ]
  },
  {
   "cell_type": "code",
   "execution_count": null,
   "metadata": {},
   "outputs": [],
   "source": []
  }
 ],
 "metadata": {
  "kernelspec": {
   "display_name": "Python [conda env:tf]",
   "language": "python",
   "name": "conda-env-tf-py"
  },
  "language_info": {
   "codemirror_mode": {
    "name": "ipython",
    "version": 3
   },
   "file_extension": ".py",
   "mimetype": "text/x-python",
   "name": "python",
   "nbconvert_exporter": "python",
   "pygments_lexer": "ipython3",
   "version": "3.6.6"
  }
 },
 "nbformat": 4,
 "nbformat_minor": 4
}
