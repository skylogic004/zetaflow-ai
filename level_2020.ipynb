{
 "cells": [
  {
   "cell_type": "code",
   "execution_count": 69,
   "metadata": {},
   "outputs": [],
   "source": [
    "from zf_function_wrappers import *\n",
    "from zf_common import *"
   ]
  },
  {
   "cell_type": "code",
   "execution_count": 70,
   "metadata": {},
   "outputs": [],
   "source": [
    "FAR_AWAY = 9999\n",
    "BIG = 2000\n",
    "SIZE_0 = 0"
   ]
  },
  {
   "cell_type": "code",
   "execution_count": 71,
   "metadata": {},
   "outputs": [],
   "source": [
    "cmds= []\n",
    "def append(cmd):\n",
    "    cmds.append(cmd)\n",
    "    print(cmd)"
   ]
  },
  {
   "cell_type": "code",
   "execution_count": 72,
   "metadata": {},
   "outputs": [],
   "source": [
    "# Part numbers with names\n",
    "parts = {\n",
    "    'circle_part': 8, # circle that is invincible and placed at center of screen\n",
    "    'kill_switch_1': 5,\n",
    "    'kill_switch_2': 6,\n",
    "    'kill_switch_3': 7,\n",
    "    \n",
    "    # the RIGHT parts to kill (circles)\n",
    "    'kill_me_first': 9,\n",
    "    'first_replacement': 12, \n",
    "    'second_replacement': 13,\n",
    "    'third_replacement': 14,\n",
    "    \n",
    "    # parent parts for the kill switches and shields, and weapons\n",
    "    # These are the 4 \"switch1b\" in each corner\n",
    "    'corner_UL': 1,\n",
    "    'corner_BL': 3,\n",
    "    'corner_UR': 2,\n",
    "    'corner_BR': 4,\n",
    "    \n",
    "}\n",
    "kill_switches = [5, 6, 7] "
   ]
  },
  {
   "cell_type": "code",
   "execution_count": 73,
   "metadata": {},
   "outputs": [],
   "source": [
    "def on_death_kill_player(part_num):\n",
    "    \"\"\" when part dies, auto-kill the player \"\"\"\n",
    "    \n",
    "    # first, set height and width to fill the whole screen\n",
    "    append(makeTriggerDeath(part_num, setWidth(circle_part, BIG)))\n",
    "    append(makeTriggerDeath(part_num, setHeight(circle_part, BIG)))\n",
    "    \n",
    "    # then, after 1 second, revert back\n",
    "    append(makeTriggerDeath(part_num, makeTriggerTime(secToFrames(2), setWidth(circle_part, SIZE_0))))\n",
    "    append(makeTriggerDeath(part_num, makeTriggerTime(secToFrames(2), setHeight(circle_part, SIZE_0))))"
   ]
  },
  {
   "cell_type": "code",
   "execution_count": 74,
   "metadata": {},
   "outputs": [
    {
     "name": "stdout",
     "output_type": "stream",
     "text": [
      "makeInvincible, 8\n",
      "makeTrigger, death, 5, setWidth, 2000, 8\n",
      "makeTrigger, death, 5, setHeight, 2000, 8\n",
      "makeTrigger, death, 5, makeTrigger, time, 60, setWidth, 0, 8\n",
      "makeTrigger, death, 5, makeTrigger, time, 60, setHeight, 0, 8\n",
      "makeTrigger, death, 6, setWidth, 2000, 8\n",
      "makeTrigger, death, 6, setHeight, 2000, 8\n",
      "makeTrigger, death, 6, makeTrigger, time, 60, setWidth, 0, 8\n",
      "makeTrigger, death, 6, makeTrigger, time, 60, setHeight, 0, 8\n",
      "makeTrigger, death, 7, setWidth, 2000, 8\n",
      "makeTrigger, death, 7, setHeight, 2000, 8\n",
      "makeTrigger, death, 7, makeTrigger, time, 60, setWidth, 0, 8\n",
      "makeTrigger, death, 7, makeTrigger, time, 60, setHeight, 0, 8\n"
     ]
    }
   ],
   "source": [
    "# prepare the auto-death triggers\n",
    "append(makeInvincible(circle_part))\n",
    "\n",
    "for num in kill_switches:\n",
    "    on_death_kill_player(num)"
   ]
  },
  {
   "cell_type": "code",
   "execution_count": 75,
   "metadata": {},
   "outputs": [],
   "source": [
    "def disarm(right_part_to_kill, kill_switch_to_remove, replacement_part):\n",
    "    # first, player should destroy #9, this will MOVE the next death trigger away and replace it with a destroyable part\n",
    "    append(makeTriggerDeath(right_part_to_kill, setDistance(kill_switch_to_remove, FAR_AWAY)))\n",
    "\n",
    "    # part #13 will take over where #2 was\n",
    "    # first, at beginning it will sit far away\n",
    "    append(setDistance(replacement_part, FAR_AWAY))\n",
    "    # and later it will be moved into place (0 distance from its parent)\n",
    "    append(makeTriggerDeath(right_part_to_kill, setDistance(replacement_part, 0)))\n"
   ]
  },
  {
   "cell_type": "code",
   "execution_count": 76,
   "metadata": {},
   "outputs": [
    {
     "name": "stdout",
     "output_type": "stream",
     "text": [
      "makeTrigger, death, 9, setDistance, 9999, 7\n",
      "setDistance, 9999, 12\n",
      "makeTrigger, death, 9, setDistance, 0, 12\n"
     ]
    }
   ],
   "source": [
    "# first, player should destroy #9, this will MOVE the next death trigger away and replace it with a destroyable part\n",
    "disarm(parts['kill_me_first'], parts['kill_switch_3'], parts['first_replacement'])"
   ]
  },
  {
   "cell_type": "code",
   "execution_count": 77,
   "metadata": {},
   "outputs": [
    {
     "name": "stdout",
     "output_type": "stream",
     "text": [
      "makeTrigger, death, 12, setDistance, 9999, 5\n",
      "setDistance, 9999, 13\n",
      "makeTrigger, death, 12, setDistance, 0, 13\n"
     ]
    }
   ],
   "source": [
    "disarm(parts['first_replacement'], parts['kill_switch_1'], parts['second_replacement'])"
   ]
  },
  {
   "cell_type": "code",
   "execution_count": 78,
   "metadata": {},
   "outputs": [
    {
     "name": "stdout",
     "output_type": "stream",
     "text": [
      "makeTrigger, death, 13, setDistance, 9999, 6\n",
      "setDistance, 9999, 14\n",
      "makeTrigger, death, 13, setDistance, 0, 14\n"
     ]
    }
   ],
   "source": [
    "disarm(parts['second_replacement'], parts['kill_switch_2'], parts['third_replacement'])"
   ]
  },
  {
   "cell_type": "code",
   "execution_count": 79,
   "metadata": {},
   "outputs": [
    {
     "name": "stdout",
     "output_type": "stream",
     "text": [
      "makeInvincible, 8\n",
      "makeTrigger, death, 5, setWidth, 2000, 8\n",
      "makeTrigger, death, 5, setHeight, 2000, 8\n",
      "makeTrigger, death, 5, makeTrigger, time, 60, setWidth, 0, 8\n",
      "makeTrigger, death, 5, makeTrigger, time, 60, setHeight, 0, 8\n",
      "makeTrigger, death, 6, setWidth, 2000, 8\n",
      "makeTrigger, death, 6, setHeight, 2000, 8\n",
      "makeTrigger, death, 6, makeTrigger, time, 60, setWidth, 0, 8\n",
      "makeTrigger, death, 6, makeTrigger, time, 60, setHeight, 0, 8\n",
      "makeTrigger, death, 7, setWidth, 2000, 8\n",
      "makeTrigger, death, 7, setHeight, 2000, 8\n",
      "makeTrigger, death, 7, makeTrigger, time, 60, setWidth, 0, 8\n",
      "makeTrigger, death, 7, makeTrigger, time, 60, setHeight, 0, 8\n",
      "makeTrigger, death, 9, setDistance, 9999, 7\n",
      "setDistance, 9999, 12\n",
      "makeTrigger, death, 9, setDistance, 0, 12\n",
      "makeTrigger, death, 12, setDistance, 9999, 5\n",
      "setDistance, 9999, 13\n",
      "makeTrigger, death, 12, setDistance, 0, 13\n",
      "makeTrigger, death, 13, setDistance, 9999, 6\n",
      "setDistance, 9999, 14\n",
      "makeTrigger, death, 13, setDistance, 0, 14\n"
     ]
    }
   ],
   "source": [
    "copy_to_clipboard(cmds)"
   ]
  },
  {
   "cell_type": "markdown",
   "metadata": {},
   "source": [
    "# parts"
   ]
  },
  {
   "cell_type": "code",
   "execution_count": 80,
   "metadata": {},
   "outputs": [],
   "source": [
    "txt = '''\n",
    "core, 400, 300, 0, 0.5, 0.5, -1, 0, 0066FF\n",
    "c, 1, -3, 0, 0, 0, e0, 8, FF0000\n",
    "switch1b, 200, 200, 0, 1, 1, e0, 4, 0C6666\n",
    "switch1b, -200, 200, 0, 1, 1, e0, 3, 0C6666\n",
    "switch1b, 200, -200, 0, 1, 1, e0, 2, 0C6666\n",
    "switch1b, -200, -200, 0, 1, 1, e0, 1, 0C6666\n",
    "\n",
    "switch2b, 0, 0, 0, 2, 2, e1, 9, 952966\n",
    "switch2b, 0, 0, 0, 2, 2, e2, 5, 952966\n",
    "switch2b, 0, 0, 0, 2, 2, e3, 7, 952966\n",
    "switch2b, 0, 0, 0, 2, 2, e4, 6, 952966\n",
    "\n",
    "switch2b, 0, 0, 0, 2, 2, e3, 12, 952966\n",
    "switch2b, 0, 0, 0, 2, 2, e2, 13, 952966\n",
    "switch2b, 0, 0, 0, 2, 2, e4, 14, 952966\n",
    "'''"
   ]
  },
  {
   "cell_type": "code",
   "execution_count": 81,
   "metadata": {},
   "outputs": [],
   "source": [
    "# corner: top left spreads\n",
    "txt += '''\n",
    "spread, 0, 61, 0, 1, 1, e1, 18, 666666\n",
    "spread, 54, -3, 0, 1, 1, e1, 17, 666666\n",
    "spread, 0, -52, 0, 1, 1, e1, 16, 666666\n",
    "spread, -52, 1, 0, 1, 1, e1, 15, 666666\n",
    "'''"
   ]
  },
  {
   "cell_type": "code",
   "execution_count": 84,
   "metadata": {},
   "outputs": [
    {
     "name": "stdout",
     "output_type": "stream",
     "text": [
      "\n",
      "core, 400, 300, 0, 0.5, 0.5, -1, 0, 0066FF\n",
      "c, 1, -3, 0, 0, 0, e0, 8, FF0000\n",
      "switch1b, 200, 200, 0, 1, 1, e0, 4, 0C6666\n",
      "switch1b, -200, 200, 0, 1, 1, e0, 3, 0C6666\n",
      "switch1b, 200, -200, 0, 1, 1, e0, 2, 0C6666\n",
      "switch1b, -200, -200, 0, 1, 1, e0, 1, 0C6666\n",
      "\n",
      "switch2b, 0, 0, 0, 2, 2, e1, 9, 952966\n",
      "switch2b, 0, 0, 0, 2, 2, e2, 5, 952966\n",
      "switch2b, 0, 0, 0, 2, 2, e3, 7, 952966\n",
      "switch2b, 0, 0, 0, 2, 2, e4, 6, 952966\n",
      "\n",
      "switch2b, 0, 0, 0, 2, 2, e3, 12, 952966\n",
      "switch2b, 0, 0, 0, 2, 2, e2, 13, 952966\n",
      "switch2b, 0, 0, 0, 2, 2, e4, 14, 952966\n",
      "\n",
      "spread, 0, 61, 0, 1, 1, e1, 18, 666666\n",
      "spread, 54, -3, 0, 1, 1, e1, 17, 666666\n",
      "spread, 0, -52, 0, 1, 1, e1, 16, 666666\n",
      "spread, -52, 1, 0, 1, 1, e1, 15, 666666\n",
      "\n"
     ]
    }
   ],
   "source": [
    "print(txt)\n",
    "copy(txt)"
   ]
  },
  {
   "cell_type": "code",
   "execution_count": null,
   "metadata": {},
   "outputs": [],
   "source": []
  }
 ],
 "metadata": {
  "kernelspec": {
   "display_name": "Python [conda env:tf]",
   "language": "python",
   "name": "conda-env-tf-py"
  },
  "language_info": {
   "codemirror_mode": {
    "name": "ipython",
    "version": 3
   },
   "file_extension": ".py",
   "mimetype": "text/x-python",
   "name": "python",
   "nbconvert_exporter": "python",
   "pygments_lexer": "ipython3",
   "version": "3.6.6"
  }
 },
 "nbformat": 4,
 "nbformat_minor": 4
}
